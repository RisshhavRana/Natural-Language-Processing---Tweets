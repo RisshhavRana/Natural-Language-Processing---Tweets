{
 "cells": [
  {
   "cell_type": "markdown",
   "metadata": {},
   "source": [
    "# Sentiment Analysis using NLP Part 2 using a new dataset"
   ]
  },
  {
   "cell_type": "code",
   "execution_count": 1,
   "metadata": {},
   "outputs": [],
   "source": [
    "import pandas as pd\n",
    "import numpy as np\n",
    "import re\n",
    "import nltk\n",
    "import matplotlib.pyplot as plt\n",
    "import seaborn as sns\n",
    "%matplotlib inline"
   ]
  },
  {
   "cell_type": "code",
   "execution_count": 2,
   "metadata": {},
   "outputs": [],
   "source": [
    "# Load the Tweets data\n",
    "df = pd.read_csv('Tweets.csv')"
   ]
  },
  {
   "cell_type": "code",
   "execution_count": 3,
   "metadata": {},
   "outputs": [
    {
     "data": {
      "text/plain": [
       "(14640, 15)"
      ]
     },
     "execution_count": 3,
     "metadata": {},
     "output_type": "execute_result"
    }
   ],
   "source": [
    "# Find the shape\n",
    "df.shape"
   ]
  },
  {
   "cell_type": "code",
   "execution_count": 4,
   "metadata": {
    "scrolled": true
   },
   "outputs": [
    {
     "data": {
      "text/html": [
       "<div>\n",
       "<style scoped>\n",
       "    .dataframe tbody tr th:only-of-type {\n",
       "        vertical-align: middle;\n",
       "    }\n",
       "\n",
       "    .dataframe tbody tr th {\n",
       "        vertical-align: top;\n",
       "    }\n",
       "\n",
       "    .dataframe thead th {\n",
       "        text-align: right;\n",
       "    }\n",
       "</style>\n",
       "<table border=\"1\" class=\"dataframe\">\n",
       "  <thead>\n",
       "    <tr style=\"text-align: right;\">\n",
       "      <th></th>\n",
       "      <th>tweet_id</th>\n",
       "      <th>airline_sentiment</th>\n",
       "      <th>airline_sentiment_confidence</th>\n",
       "      <th>negativereason</th>\n",
       "      <th>negativereason_confidence</th>\n",
       "      <th>airline</th>\n",
       "      <th>airline_sentiment_gold</th>\n",
       "      <th>name</th>\n",
       "      <th>negativereason_gold</th>\n",
       "      <th>retweet_count</th>\n",
       "      <th>text</th>\n",
       "      <th>tweet_coord</th>\n",
       "      <th>tweet_created</th>\n",
       "      <th>tweet_location</th>\n",
       "      <th>user_timezone</th>\n",
       "    </tr>\n",
       "  </thead>\n",
       "  <tbody>\n",
       "    <tr>\n",
       "      <th>0</th>\n",
       "      <td>570306133677760513</td>\n",
       "      <td>neutral</td>\n",
       "      <td>1.0000</td>\n",
       "      <td>NaN</td>\n",
       "      <td>NaN</td>\n",
       "      <td>Virgin America</td>\n",
       "      <td>NaN</td>\n",
       "      <td>cairdin</td>\n",
       "      <td>NaN</td>\n",
       "      <td>0</td>\n",
       "      <td>@VirginAmerica What @dhepburn said.</td>\n",
       "      <td>NaN</td>\n",
       "      <td>2015-02-24 11:35:52 -0800</td>\n",
       "      <td>NaN</td>\n",
       "      <td>Eastern Time (US &amp; Canada)</td>\n",
       "    </tr>\n",
       "    <tr>\n",
       "      <th>1</th>\n",
       "      <td>570301130888122368</td>\n",
       "      <td>positive</td>\n",
       "      <td>0.3486</td>\n",
       "      <td>NaN</td>\n",
       "      <td>0.0000</td>\n",
       "      <td>Virgin America</td>\n",
       "      <td>NaN</td>\n",
       "      <td>jnardino</td>\n",
       "      <td>NaN</td>\n",
       "      <td>0</td>\n",
       "      <td>@VirginAmerica plus you've added commercials t...</td>\n",
       "      <td>NaN</td>\n",
       "      <td>2015-02-24 11:15:59 -0800</td>\n",
       "      <td>NaN</td>\n",
       "      <td>Pacific Time (US &amp; Canada)</td>\n",
       "    </tr>\n",
       "    <tr>\n",
       "      <th>2</th>\n",
       "      <td>570301083672813571</td>\n",
       "      <td>neutral</td>\n",
       "      <td>0.6837</td>\n",
       "      <td>NaN</td>\n",
       "      <td>NaN</td>\n",
       "      <td>Virgin America</td>\n",
       "      <td>NaN</td>\n",
       "      <td>yvonnalynn</td>\n",
       "      <td>NaN</td>\n",
       "      <td>0</td>\n",
       "      <td>@VirginAmerica I didn't today... Must mean I n...</td>\n",
       "      <td>NaN</td>\n",
       "      <td>2015-02-24 11:15:48 -0800</td>\n",
       "      <td>Lets Play</td>\n",
       "      <td>Central Time (US &amp; Canada)</td>\n",
       "    </tr>\n",
       "    <tr>\n",
       "      <th>3</th>\n",
       "      <td>570301031407624196</td>\n",
       "      <td>negative</td>\n",
       "      <td>1.0000</td>\n",
       "      <td>Bad Flight</td>\n",
       "      <td>0.7033</td>\n",
       "      <td>Virgin America</td>\n",
       "      <td>NaN</td>\n",
       "      <td>jnardino</td>\n",
       "      <td>NaN</td>\n",
       "      <td>0</td>\n",
       "      <td>@VirginAmerica it's really aggressive to blast...</td>\n",
       "      <td>NaN</td>\n",
       "      <td>2015-02-24 11:15:36 -0800</td>\n",
       "      <td>NaN</td>\n",
       "      <td>Pacific Time (US &amp; Canada)</td>\n",
       "    </tr>\n",
       "    <tr>\n",
       "      <th>4</th>\n",
       "      <td>570300817074462722</td>\n",
       "      <td>negative</td>\n",
       "      <td>1.0000</td>\n",
       "      <td>Can't Tell</td>\n",
       "      <td>1.0000</td>\n",
       "      <td>Virgin America</td>\n",
       "      <td>NaN</td>\n",
       "      <td>jnardino</td>\n",
       "      <td>NaN</td>\n",
       "      <td>0</td>\n",
       "      <td>@VirginAmerica and it's a really big bad thing...</td>\n",
       "      <td>NaN</td>\n",
       "      <td>2015-02-24 11:14:45 -0800</td>\n",
       "      <td>NaN</td>\n",
       "      <td>Pacific Time (US &amp; Canada)</td>\n",
       "    </tr>\n",
       "  </tbody>\n",
       "</table>\n",
       "</div>"
      ],
      "text/plain": [
       "             tweet_id airline_sentiment  airline_sentiment_confidence  \\\n",
       "0  570306133677760513           neutral                        1.0000   \n",
       "1  570301130888122368          positive                        0.3486   \n",
       "2  570301083672813571           neutral                        0.6837   \n",
       "3  570301031407624196          negative                        1.0000   \n",
       "4  570300817074462722          negative                        1.0000   \n",
       "\n",
       "  negativereason  negativereason_confidence         airline  \\\n",
       "0            NaN                        NaN  Virgin America   \n",
       "1            NaN                     0.0000  Virgin America   \n",
       "2            NaN                        NaN  Virgin America   \n",
       "3     Bad Flight                     0.7033  Virgin America   \n",
       "4     Can't Tell                     1.0000  Virgin America   \n",
       "\n",
       "  airline_sentiment_gold        name negativereason_gold  retweet_count  \\\n",
       "0                    NaN     cairdin                 NaN              0   \n",
       "1                    NaN    jnardino                 NaN              0   \n",
       "2                    NaN  yvonnalynn                 NaN              0   \n",
       "3                    NaN    jnardino                 NaN              0   \n",
       "4                    NaN    jnardino                 NaN              0   \n",
       "\n",
       "                                                text tweet_coord  \\\n",
       "0                @VirginAmerica What @dhepburn said.         NaN   \n",
       "1  @VirginAmerica plus you've added commercials t...         NaN   \n",
       "2  @VirginAmerica I didn't today... Must mean I n...         NaN   \n",
       "3  @VirginAmerica it's really aggressive to blast...         NaN   \n",
       "4  @VirginAmerica and it's a really big bad thing...         NaN   \n",
       "\n",
       "               tweet_created tweet_location               user_timezone  \n",
       "0  2015-02-24 11:35:52 -0800            NaN  Eastern Time (US & Canada)  \n",
       "1  2015-02-24 11:15:59 -0800            NaN  Pacific Time (US & Canada)  \n",
       "2  2015-02-24 11:15:48 -0800      Lets Play  Central Time (US & Canada)  \n",
       "3  2015-02-24 11:15:36 -0800            NaN  Pacific Time (US & Canada)  \n",
       "4  2015-02-24 11:14:45 -0800            NaN  Pacific Time (US & Canada)  "
      ]
     },
     "execution_count": 4,
     "metadata": {},
     "output_type": "execute_result"
    }
   ],
   "source": [
    "# Quick look at the data\n",
    "df.head(5)"
   ]
  },
  {
   "cell_type": "code",
   "execution_count": 5,
   "metadata": {},
   "outputs": [
    {
     "name": "stdout",
     "output_type": "stream",
     "text": [
      "Index(['tweet_id', 'airline_sentiment', 'airline_sentiment_confidence',\n",
      "       'negativereason', 'negativereason_confidence', 'airline',\n",
      "       'airline_sentiment_gold', 'name', 'negativereason_gold',\n",
      "       'retweet_count', 'text', 'tweet_coord', 'tweet_created',\n",
      "       'tweet_location', 'user_timezone'],\n",
      "      dtype='object')\n"
     ]
    }
   ],
   "source": [
    "df.describe()\n",
    "print(df.columns)"
   ]
  },
  {
   "cell_type": "code",
   "execution_count": 6,
   "metadata": {},
   "outputs": [
    {
     "data": {
      "text/plain": [
       "array(['Virgin America', 'United', 'Southwest', 'Delta', 'US Airways',\n",
       "       'American'], dtype=object)"
      ]
     },
     "execution_count": 6,
     "metadata": {},
     "output_type": "execute_result"
    }
   ],
   "source": [
    "l1 = df['airline'].unique()\n",
    "l1"
   ]
  },
  {
   "cell_type": "code",
   "execution_count": 7,
   "metadata": {},
   "outputs": [
    {
     "data": {
      "image/png": "[encoded data removed]",
      "text/plain": [
       "<Figure size 400x400 with 1 Axes>"
      ]
     },
     "metadata": {},
     "output_type": "display_data"
    }
   ],
   "source": [
    "# Create a pie chart by airline %\n",
    "df['airline'].value_counts().plot.pie(autopct='%.f%%' , figsize=(4,4))\n",
    "plt.title('Airline Pie Chart')\n",
    "plt.show()"
   ]
  },
  {
   "cell_type": "code",
   "execution_count": 8,
   "metadata": {},
   "outputs": [
    {
     "data": {
      "image/png": "[encoded data removed]",
      "text/plain": [
       "<Figure size 400x400 with 1 Axes>"
      ]
     },
     "metadata": {},
     "output_type": "display_data"
    }
   ],
   "source": [
    "df['airline_sentiment'].value_counts().plot.pie(autopct='%.f%%' , figsize=(4,4))\n",
    "plt.title('Airline Sentiment Pie Chart')\n",
    "plt.show()"
   ]
  },
  {
   "cell_type": "code",
   "execution_count": 9,
   "metadata": {},
   "outputs": [
    {
     "data": {
      "text/plain": [
       "<AxesSubplot: xlabel='airline'>"
      ]
     },
     "execution_count": 9,
     "metadata": {},
     "output_type": "execute_result"
    },
    {
     "data": {
      "image/png": "[encoded data removed]",
      "text/plain": [
       "<Figure size 640x480 with 1 Axes>"
      ]
     },
     "metadata": {},
     "output_type": "display_data"
    }
   ],
   "source": [
    "# Create a bar chart by airline and airline sentiment\n",
    "df.groupby(['airline'])['airline_sentiment'].value_counts().unstack().plot(kind='bar')"
   ]
  },
  {
   "cell_type": "code",
   "execution_count": 55,
   "metadata": {},
   "outputs": [
    {
     "data": {
      "image/png": "[encoded data removed]",
      "text/plain": [
       "<Figure size 800x600 with 1 Axes>"
      ]
     },
     "metadata": {},
     "output_type": "display_data"
    }
   ],
   "source": [
    "# Show a bar chart of airline_sentiment by airline_sentiment_confidence\n",
    "\n",
    "# Group the data by airline_sentiment and calculate the mean sentiment_confidence\n",
    "grouped_data = df.groupby('airline_sentiment')['airline_sentiment_confidence'].mean()\n",
    "\n",
    "# Create a bar chart\n",
    "fig, ax = plt.subplots(figsize=(8,6))\n",
    "color_palette = sns.color_palette(\"Set2\")\n",
    "ax.bar(grouped_data.index, grouped_data.values, color = color_palette)\n",
    "\n",
    "\n",
    "# Add labels and titles\n",
    "ax.set_xlabel('Airline Sentiment')\n",
    "ax.set_ylabel('Average Sentiment Confidence')\n",
    "ax.set_title('Average Sentiment Confidence by Airline Sentiment')\n",
    "\n",
    "# Show the plot\n",
    "plt.show()"
   ]
  },
  {
   "cell_type": "code",
   "execution_count": 11,
   "metadata": {},
   "outputs": [
    {
     "data": {
      "text/html": [
       "<div>\n",
       "<style scoped>\n",
       "    .dataframe tbody tr th:only-of-type {\n",
       "        vertical-align: middle;\n",
       "    }\n",
       "\n",
       "    .dataframe tbody tr th {\n",
       "        vertical-align: top;\n",
       "    }\n",
       "\n",
       "    .dataframe thead th {\n",
       "        text-align: right;\n",
       "    }\n",
       "</style>\n",
       "<table border=\"1\" class=\"dataframe\">\n",
       "  <thead>\n",
       "    <tr style=\"text-align: right;\">\n",
       "      <th></th>\n",
       "      <th>text</th>\n",
       "      <th>airline_sentiment</th>\n",
       "    </tr>\n",
       "  </thead>\n",
       "  <tbody>\n",
       "    <tr>\n",
       "      <th>0</th>\n",
       "      <td>@VirginAmerica plus you've added commercials t...</td>\n",
       "      <td>positive</td>\n",
       "    </tr>\n",
       "    <tr>\n",
       "      <th>1</th>\n",
       "      <td>@VirginAmerica it's really aggressive to blast...</td>\n",
       "      <td>negative</td>\n",
       "    </tr>\n",
       "    <tr>\n",
       "      <th>2</th>\n",
       "      <td>@VirginAmerica and it's a really big bad thing...</td>\n",
       "      <td>negative</td>\n",
       "    </tr>\n",
       "    <tr>\n",
       "      <th>3</th>\n",
       "      <td>@VirginAmerica seriously would pay $30 a fligh...</td>\n",
       "      <td>negative</td>\n",
       "    </tr>\n",
       "    <tr>\n",
       "      <th>4</th>\n",
       "      <td>@VirginAmerica yes, nearly every time I fly VX...</td>\n",
       "      <td>positive</td>\n",
       "    </tr>\n",
       "    <tr>\n",
       "      <th>...</th>\n",
       "      <td>...</td>\n",
       "      <td>...</td>\n",
       "    </tr>\n",
       "    <tr>\n",
       "      <th>11536</th>\n",
       "      <td>@AmericanAir my flight was Cancelled Flightled...</td>\n",
       "      <td>negative</td>\n",
       "    </tr>\n",
       "    <tr>\n",
       "      <th>11537</th>\n",
       "      <td>@AmericanAir right on cue with the delays👌</td>\n",
       "      <td>negative</td>\n",
       "    </tr>\n",
       "    <tr>\n",
       "      <th>11538</th>\n",
       "      <td>@AmericanAir thank you we got on a different f...</td>\n",
       "      <td>positive</td>\n",
       "    </tr>\n",
       "    <tr>\n",
       "      <th>11539</th>\n",
       "      <td>@AmericanAir leaving over 20 minutes Late Flig...</td>\n",
       "      <td>negative</td>\n",
       "    </tr>\n",
       "    <tr>\n",
       "      <th>11540</th>\n",
       "      <td>@AmericanAir you have my money, you change my ...</td>\n",
       "      <td>negative</td>\n",
       "    </tr>\n",
       "  </tbody>\n",
       "</table>\n",
       "<p>11541 rows × 2 columns</p>\n",
       "</div>"
      ],
      "text/plain": [
       "                                                    text airline_sentiment\n",
       "0      @VirginAmerica plus you've added commercials t...          positive\n",
       "1      @VirginAmerica it's really aggressive to blast...          negative\n",
       "2      @VirginAmerica and it's a really big bad thing...          negative\n",
       "3      @VirginAmerica seriously would pay $30 a fligh...          negative\n",
       "4      @VirginAmerica yes, nearly every time I fly VX...          positive\n",
       "...                                                  ...               ...\n",
       "11536  @AmericanAir my flight was Cancelled Flightled...          negative\n",
       "11537         @AmericanAir right on cue with the delays👌          negative\n",
       "11538  @AmericanAir thank you we got on a different f...          positive\n",
       "11539  @AmericanAir leaving over 20 minutes Late Flig...          negative\n",
       "11540  @AmericanAir you have my money, you change my ...          negative\n",
       "\n",
       "[11541 rows x 2 columns]"
      ]
     },
     "execution_count": 11,
     "metadata": {},
     "output_type": "execute_result"
    }
   ],
   "source": [
    "#Create a new dataframe that will only have 2 relevant columns (Identify the 2 columns)\n",
    "df_1 = df[['text', 'airline_sentiment']]\n",
    "\n",
    "# Remove the neutral sentiments from the dataframe\n",
    "df_1=df_1[df_1.airline_sentiment != 'neutral'].reset_index(drop=True)\n",
    "df_1"
   ]
  },
  {
   "cell_type": "markdown",
   "metadata": {},
   "source": [
    "## Questions\n",
    "### 1. Use this to create the corpus. Use the same steps from the last lab\n",
    "### 2. Create bag of words model \n",
    "### 3. Apply Various Machine Learning Classification Models (all 5)\n",
    "### 4. Create Confusion matrix and all the four performance metrics\n",
    "### 5. Create a TF-IDF model\n",
    "### 6. Apply the Machine learning models onto this TF-IDF model (all 5)\n",
    "### 7. Create Confusion matrix and all the four performance metrics\n",
    "### 8. Compare the various models on both the approaches.\n",
    "### 9. Which model predicts the best?\n"
   ]
  },
  {
   "cell_type": "code",
   "execution_count": 12,
   "metadata": {},
   "outputs": [
    {
     "name": "stderr",
     "output_type": "stream",
     "text": [
      "[nltk_data] Downloading package stopwords to\n",
      "[nltk_data]     C:\\Users\\15199\\AppData\\Roaming\\nltk_data...\n",
      "[nltk_data]   Package stopwords is already up-to-date!\n"
     ]
    }
   ],
   "source": [
    "# Clean the text by removing any extra characters\n",
    "\n",
    "import re # tools for cleaning text\n",
    "import nltk # library to perform NLP\n",
    "\n",
    "nltk.download('stopwords') # tool to remove the non-essential words. It is a list of words\n",
    "from nltk.corpus import stopwords\n",
    "\n",
    "# Stemming means taking the root of the word such as love from loved or loving\n",
    "from nltk.stem.porter import PorterStemmer"
   ]
  },
  {
   "cell_type": "code",
   "execution_count": 13,
   "metadata": {},
   "outputs": [],
   "source": [
    "corpus = [] # Build a new list for all the words from all the reviews\n",
    "for i in range (0, 11541):\n",
    "    review = re.sub('[^a-zA-Z]', ' ', df_1['text'][i] )\n",
    "    review = review.lower()\n",
    "    review = review.split()\n",
    "    ps =PorterStemmer()\n",
    "    review = [ps.stem(word) for word in review if not  word in set(stopwords.words('english'))]\n",
    "    review = ' '.join(review)\n",
    "    corpus.append(review)"
   ]
  },
  {
   "cell_type": "code",
   "execution_count": 14,
   "metadata": {},
   "outputs": [
    {
     "data": {
      "text/plain": [
       "['virginamerica plu ad commerci experi tacki',\n",
       " 'virginamerica realli aggress blast obnoxi entertain guest face amp littl recours',\n",
       " 'virginamerica realli big bad thing',\n",
       " 'virginamerica serious would pay flight seat play realli bad thing fli va',\n",
       " 'virginamerica ye nearli everi time fli vx ear worm go away',\n",
       " 'virginamerica well',\n",
       " 'virginamerica amaz arriv hour earli good',\n",
       " 'virginamerica lt pretti graphic much better minim iconographi',\n",
       " 'virginamerica great deal alreadi think nd trip australia amp even gone st trip yet p',\n",
       " 'virginamerica virginmedia fli fabul seduct sky u take stress away travel http co ahlxhhkiyn',\n",
       " 'virginamerica thank',\n",
       " 'virginamerica sfo pdx schedul still mia',\n",
       " 'virginamerica excit first cross countri flight lax mco heard noth great thing virgin america daystogo',\n",
       " 'virginamerica flew nyc sfo last week fulli sit seat due two larg gentleman either side help',\n",
       " 'fli virginamerica',\n",
       " 'virginamerica know would amazingli awesom bo fll pleas want fli',\n",
       " 'virginamerica first fare may three time carrier seat avail select',\n",
       " 'virginamerica love graphic http co ut grrwaaa',\n",
       " 'virginamerica love hipster innov feel good brand',\n",
       " 'virginamerica guy mess seat reserv seat friend guy gave seat away want free internet',\n",
       " 'virginamerica statu match program appli three week call email respons',\n",
       " 'virginamerica happen ur vegan food option least say ur site know abl eat anyth next hr fail',\n",
       " 'virginamerica amaz get cold air vent vx noair worstflightev roast sfotobo',\n",
       " 'virginamerica hi bked cool birthday trip add elev caus enter middl name flight book problem',\n",
       " 'virginamerica help left expens headphon flight iad lax today seat one answer l amp f number lax',\n",
       " 'virginamerica await return phone call would prefer use onlin self servic option',\n",
       " 'virginamerica great news america could start flight hawaii end year http co r p zy fe via pacificbiznew',\n",
       " 'virginamerica moodlight way fli best experi ever cool calm moodlitmonday',\n",
       " 'virginamerica freddieaward done done best airlin around hand',\n",
       " 'virginamerica chat support work site http co vhp gtdwpk',\n",
       " 'virginamerica view downtown lo angel hollywood sign beyond rain mountain http co dw nf ibtr',\n",
       " 'virginamerica hey first time flyer next week excit hard time get flight ad elev account help',\n",
       " 'virginamerica elevategold good reason rock',\n",
       " 'virginamerica wow blew mind',\n",
       " 'virginamerica ladygaga carrieunderwood juli andrew way though ladygaga impress carrieunderwood',\n",
       " 'virginamerica hi excit lga gt dal deal tri book sinc last week amp page never load thx',\n",
       " 'virginamerica know need spotifi stat guiltypleasur',\n",
       " 'virginamerica ladygaga carrieunderwood ladi gaga amaz',\n",
       " 'virginamerica call week ago ad flight elev still shown help',\n",
       " 'virginamerica ladygaga carrieunderwood love three realli beat classic',\n",
       " 'virginamerica heyyyi guyyyi tri get hour someon call pleas',\n",
       " 'virginamerica hi virgin hold minut earlier flight la nyc tonight earlier pm',\n",
       " 'virginamerica congrat win travelzoo award best deal airlin us http co kj iljaebv',\n",
       " 'virginamerica everyth fine lost bag',\n",
       " 'virginamerica airlin awesom lax loft need step game dirti tabl floor http co hy vrfhjht',\n",
       " 'virginamerica worri great ride new plane great crew airlin like',\n",
       " 'virginamerica awesom flew yall sat morn way correct bill',\n",
       " 'virginamerica go custom servic anyway speak human asap thank',\n",
       " 'virginamerica supp biz travel like southwestair custom servic like jetblu neverflyvirginforbusi',\n",
       " 'virginamerica appli member inflight crew team im interest flightattend dreampath g',\n",
       " 'virginamerica best whenev begrudgingli use airlin delay late flight',\n",
       " 'virginamerica interest fli cancel flight next four flight plan neverflyvirginforbusi',\n",
       " 'virginamerica disappoint experi share everi busi travel meet neverflyvirgin',\n",
       " 'virginamerica troubl ad flight wife book elev account help http co px hqok r',\n",
       " 'virginamerica site back',\n",
       " 'virginamerica like tv interest video disappoint cancel flightl flight flight went jfk saturday',\n",
       " 'virginamerica land lax hour late flight bag check busi travel friendli nomorevirgin',\n",
       " 'virginamerica websit btw new websit great user experi time anoth redesign',\n",
       " 'virginamerica check add bag websit work tri desktop mobil http co avyqdmpi',\n",
       " 'virginamerica let scan passeng leav plane told someon remov bag st class bin uncomfort',\n",
       " 'virginamerica phone number find call flight reserv',\n",
       " 'virginamerica anyon anyth today websit useless one answer phone',\n",
       " 'virginamerica must travel miss flight late flight check bag miss morn appoint lost busi sfo lax',\n",
       " 'virginamerica direct flight fll gt sfo unexpect layov vega fuel yet peep next bought vega flight sneaki',\n",
       " 'virginamerica late flight bag check lost busi miss flight apt three peopl flight exp',\n",
       " 'virginamerica amaz custom servic raeann sf best customerservic virginamerica fli',\n",
       " 'virginamerica call servic line hung awesom sarcasm',\n",
       " 'virginamerica site trip tri check get plain text version reluct enter card info',\n",
       " 'virginamerica getaway deal may one way lot cool citi http co tzzjhuibch cheapflight farecompar',\n",
       " 'virginamerica getaway deal may one way lot cool citi http co b xi yg cheapflight farecompar',\n",
       " 'virginamerica great week',\n",
       " 'virginamerica come back phl alreadi need take us horribl cold pleasecomeback http co glxfwp nqh',\n",
       " 'virginamerica concern fli plane need delay due tech stop',\n",
       " 'virginamerica best airlin flown easi chang reserv help repres amp comfort fli experi',\n",
       " 'virginamerica anoth rep kick butt naelah repres team beauti thank',\n",
       " 'virginamerica beauti front end design right cool still book ticket b c back end secur',\n",
       " 'virginamerica love team run gate e la tonight wait delay flight kept thing entertain',\n",
       " 'virginamerica use anoth browser amp brand reput built tech respons cross browser compat websit',\n",
       " 'virginamerica flight flight book problem site total folk problem',\n",
       " 'virginamerica like custom servic min delay connect passeng seem long va',\n",
       " 'virginamerica thank outstand nyc jfk crew move mountain get home san francisco tonight',\n",
       " 'virginamerica absolut best team custom servic ever everi time fli delight thank',\n",
       " 'virginamerica need chang flight that schedul hour min wait time phone im call intern help',\n",
       " 'virginamerica complet awesom experi last month bo la nonstop thank awesom flight depart time vabeatsjblu',\n",
       " 'virginamerica fail custom check process link tsa pre check',\n",
       " 'virginamerica fidifamili us terribl airlin gave us hotel hotlin number said sorri',\n",
       " 'virginamerica chrysichrys assist yesterday u cancel flightl flight give us hotel hotlin shame',\n",
       " 'virginamerica anoth delay flight likingyoulessandless',\n",
       " 'virginamerica need regist servic dog first class ticket sfo gt dull phone queue hour longer pl advis',\n",
       " 'virginamerica rock make watch oscar flight redcarpet oscar oscar',\n",
       " 'virginamerica alway xoxo',\n",
       " 'virginamerica book seat flight buy even check creat much anxieti frustrat',\n",
       " 'virginamerica think pay extra buck rt luggag might afford hire extra hand sfo lame',\n",
       " 'virginamerica best custom servic rep world irmafromdalla take cake',\n",
       " 'virginamerica pleas provid statu flight cant imagin time web indic dude weather dalla',\n",
       " 'virginamerica amaz staff amp super help ran waltdisneyworld princesshalf spoil comfort',\n",
       " 'virginamerica paid premium fli across countri cancel flight flight offer check fee upgrad love sad face',\n",
       " 'virginamerica question possibl book seat infant give option want seat',\n",
       " 'alway togeth welcom rt virginamerica jessicajaym welcom',\n",
       " 'virginamerica flight home dc sunset globe backtowint back work refresh http co vx vbctdlf',\n",
       " 'virginamerica understand need dm give answer damag luggag polici',\n",
       " 'virginamerica mean polici destroy luggag',\n",
       " 'virginamerica thank check ticket purchas custom happi',\n",
       " 'virginamerica problem flight book problem web site keep give error contact phone phone minut wait',\n",
       " 'virginamerica reschedul cancel flightl flight onlin chang button grey',\n",
       " 'virginamerica rang wait minut book ticket vendor fix site',\n",
       " 'virginamerica got flight told today check email tomorrow unaccept',\n",
       " 'virginamerica flight lga cancel flight stuck dalla call reschedul told could get flight today',\n",
       " 'virginamerica pair includ red wine white offer redwineisbett',\n",
       " 'virginamerica websit',\n",
       " 'virginamerica site seem littl wonk right may want look tri two browser css http co qsqmm kf',\n",
       " 'virginamerica disappoint agent design silver statu check line dull airport close assist paseng',\n",
       " 'virginamerica normal receiv repli central baggag baggageissu smh',\n",
       " 'virginamerica logan airport wait checkin flight checkin desk open',\n",
       " 'virginamerica congrat got busi ewr sfo lax fuck unit fl sfo ewr clincher',\n",
       " 'virginamerica appli week ago heard back fli week disappoint',\n",
       " 'virginamerica thank follow',\n",
       " 'virginamerica mani apolog r wors airlin even respond cudtom',\n",
       " 'virginamerica shame va make peopl spend money strand citi airlin land jfk reimburs',\n",
       " 'virginamerica bad say take day via confirm email inquir week claim week',\n",
       " 'virginamerica flight bo gt la tomorrow cancel flightl notif wait time hour rebook anoth airlin',\n",
       " 'rt virginamerica met match got statu anoth airlin upgrad restr http co rhkamx vf http co pyalebgkjt',\n",
       " 'virginamerica way fli elev gold',\n",
       " 'virginamerica lot apolog thrown custom see sad thank noth worst airlin ever',\n",
       " 'virginamerica flight stuff wrong noth worst flight ever',\n",
       " 'virginamerica match americanairlin statu cool',\n",
       " 'virginamerica tri book flight guy websit let lose busi',\n",
       " 'virginamerica suck',\n",
       " 'virginamerica thank',\n",
       " 'virginamerica dm issu persist',\n",
       " 'virginamerica never rec cancel flightlat notic left w option fli ps drive la red eye mon w kid',\n",
       " 'virginamerica tri book flight amp site',\n",
       " 'virginamerica flight fli boston tomorrow need home cancel flightl flight anyth',\n",
       " 'virginamerica stink flight cancel flight psp jfk notif abil rebook disappoint expect better',\n",
       " 'virginamerica love guy song danc high school danc revu',\n",
       " 'virginamerica websit tri check',\n",
       " 'virginamerica done thank quick respons appar faster sit hold',\n",
       " 'virginamerica cool pictur anoth virginamerica plane wing site http co b agfd c',\n",
       " 'virginamerica keep great work',\n",
       " 'virginamerica good peopl love field amaz pressur texa beatstheoth crisi pleas fli ny',\n",
       " 'virginamerica thank great flight la boston pilot great job land snow go back la serious',\n",
       " 'virginamerica thank much awesom support guy rock',\n",
       " 'virginamerica seat row reclin mention websit soreback',\n",
       " 'virginamerica flight delay hour la due mechan problem handl like pro could toss us free drink',\n",
       " 'virginamerica cancel flight flight today precipit scare',\n",
       " 'virginamerica twitter team guy kill reschedul asap thank',\n",
       " 'virginamerica guy charg reschedul flight cancel flight refus refund deal',\n",
       " 'virginamerica access websit safari iphon seem work mac ipad need iphon add passbook',\n",
       " 'virginamerica mobil site broken show header elevateus numofpointsavail number point let checkin',\n",
       " 'virginamerica realli look forward flight let know reschedul diehardvirgin',\n",
       " 'virginamerica cancel flight flight vx one sec delay airport next cancel flightl gonna email call reschedul',\n",
       " 'virginamerica problem link email check thank',\n",
       " 'virginamerica chang anoth airlin get dc today unit abl land dc cost ugh',\n",
       " 'virginamerica look forward first flight today cancel flightl along subsequ one',\n",
       " 'virginamerica put great deal pdx la la pdx show love http co eniqg buzj',\n",
       " 'virginamerica wish afford fli next friday go back home love everyth airlin',\n",
       " 'virginamerica gonna deal dalla dc deal dc dalla sad',\n",
       " 'virginamerica hold time call center bit much',\n",
       " 'virginamerica like http co vpqem xuq',\n",
       " 'virginamerica site help',\n",
       " 'virginamerica best flight attend ever http co pxdel nq l',\n",
       " 'awesom rt virginamerica watch nomin film feet meetthefleet oscar http co dnstitrzwi',\n",
       " 'virginamerica thank much',\n",
       " 'virginamerica tri reset password email never arriv help',\n",
       " 'virginamerica airlin base silicon valley disrupt fcmostinnov incub fastcompani http co wu lbcncr',\n",
       " 'virginamerica nice done',\n",
       " 'virginamerica look forward watch oscar flight home tomorrow might even get someth bubbl drink',\n",
       " 'virginamerica reason delay departur vx jfk afternoon',\n",
       " 'virginamerica today flight palm spring ca jfk ny cancel flightl',\n",
       " 'virginamerica hahaha virginamerica guy amaz love guy',\n",
       " 'virginamerica sound like fun',\n",
       " 'virginamerica css site right pleas fix site unus',\n",
       " 'virginamerica flight vega boston today check onlin bag count regist fix somehow',\n",
       " 'virginamerica classiq luv virgin america greetingz',\n",
       " 'virginamerica hi tri check websit work tri differ browser problem continu',\n",
       " 'virginamerica thank great custom servic today amp help get travel sort',\n",
       " 'virginamerica thank guy sweet rout rocki airplanemodewason',\n",
       " 'virginamerica love music blast gate boston wait flight sanfrancisco could get ice coffe',\n",
       " 'virginamerica passeng flt assault flown trust ban crew file report faanew',\n",
       " 'virginamerica current bug websit show select departur citi select destin citi http co sllyib vq',\n",
       " 'virginamerica luggag sever dent miss wheel come baggag claim san luggag agent miranda think help',\n",
       " 'virginamerica thank easi itinerari shift impend weather quick painless amp free',\n",
       " 'virginamerica thank good time back vodkaton entir flight sfo',\n",
       " 'virginamerica great job ad littl luxuri aesthet improv air travel experi thank keep',\n",
       " 'virginamerica request window seat confirm window got stuck middl seat good way treat silver member',\n",
       " 'virginamerica wtf paid direct flight purpos stop fuel exhaust frequent flier noth inconveni',\n",
       " 'virginamerica someth wrong websit safari iphon',\n",
       " 'virginamerica thank gate check baggag full flight dfw lax give earli board sweet',\n",
       " 'virginamerica alreadi check page expir x',\n",
       " 'virginamerica boo refund seat upgrad fee want buy first place',\n",
       " 'virginamerica see',\n",
       " 'virginamerica inflight team make experi amaz',\n",
       " 'virginamerica cutest salt pepper shaker ever think guy get better http co vc keulg j',\n",
       " 'virginamerica move seat notic better seat cabin select behind row select disappoint',\n",
       " 'virginamerica fav airlin',\n",
       " 'virginamerica hot femal pilot sweet dca sfo',\n",
       " 'virginamerica alreadi contact central baggag amp sent dm renttherunway charg dress lost suitcas help',\n",
       " 'virginamerica thank',\n",
       " 'virginamerica anyth go websit get lot error past minut',\n",
       " 'virginamerica virginatlant check flight sfo lax amp told atlant fli club gold get benefit',\n",
       " 'virginamerica husband order three drink via screen never came awesom',\n",
       " 'virginamerica soooo guy go leav seatbelt light flight bare call turbul',\n",
       " 'virginamerica funni stori websit broken miss javascript stylesheet checkin process dislik',\n",
       " 'virginamerica would love virgin like gopro',\n",
       " 'virginamerica tri check ct flight tmm desktop websit work sort cach bug so',\n",
       " 'virginamerica guy know check link email broken http co npxb obmr',\n",
       " 'virginamerica love wait monday return flight mostli watch inflight safeti video sorrynotsorri',\n",
       " 'virginamerica lost luggag day ago flight vx lax iad amp call everi day respons pleas give back stuff',\n",
       " 'virginamerica flight book problem section websit seem broken chrome might wanna look',\n",
       " 'virginamerica hi want see new rout plan year newark love fli guy hope',\n",
       " 'virginamerica mean probabl inappropri board',\n",
       " 'virginamerica happi spend day togeth let',\n",
       " 'virginamerica understand help thx comp',\n",
       " 'virginamerica thank absolut',\n",
       " 'virginamerica look like broken link asset http co oardjjgrrd',\n",
       " 'virginamerica manag itinerari section websit seem broken http co pujvcelng',\n",
       " 'virginamerica check site look like everi time load http co kaci awdbw',\n",
       " 'virginamerica carrier less half price round trip fare stun http co ukdjjijrow',\n",
       " 'virginamerica wtf happen pdx late flight march one way sfo',\n",
       " 'virginamerica free drink flight back free promo',\n",
       " 'virginamerica ssal thank',\n",
       " 'virginamerica luggag gone file paperwork promis call email still resolut respons central luggag',\n",
       " 'virginamerica thank',\n",
       " 'virginamerica thank take care suuperg flight rockstar travel',\n",
       " 'virginamerica thank love soft view travel san sfo http co cnctl g ef',\n",
       " 'virginamerica request mileag challeng statu sever week ago onlin heard back get help',\n",
       " 'virginamerica tri book ticket nyc face super fun broken style worri keep tri',\n",
       " 'virginamerica appli statu match feb got confirm email day still news though guy drop ball late flightli',\n",
       " 'virginamerica ador look forward flight austin two week',\n",
       " 'virginamerica glad mention took first virgin flight year back transform experi',\n",
       " 'virginamerica tri check look like site',\n",
       " 'virginamerica spend birthday night dal dca get home',\n",
       " 'virginamerica sent coupl messag email provid avail tri next year cheer',\n",
       " 'virginamerica first time fli virgin went sanfrancisco thank smooth ride easili new fav airlin',\n",
       " 'virginamerica serious though direct flight sfo fll may',\n",
       " 'virginamerica fine alreadi done purchas tri go way go back',\n",
       " 'virginamerica realli experi hope ws forc check small carri w noth empti cabin space board',\n",
       " 'virginamerica wjere luggag slow lax',\n",
       " 'virginamerica spoke repres offer solut loyal custom fli virginatlant well',\n",
       " 'virginamerica deepli disappoint birthday promo appli trip book mere day receiv email',\n",
       " 'virginamerica happen direct flight sfo fll look may see connect help dontdothistom',\n",
       " 'virginamerica promot product problem southwest recommend noneoth best http co tfanxbh cf',\n",
       " 'virginamerica love guy pl get direct rout la au',\n",
       " 'virginamerica cours work virginatlant obsess entir virgin famili',\n",
       " 'virginamerica ok first time fli tonight',\n",
       " 'virginamerica emboss badg patch superior one current use http co fq xelbon',\n",
       " 'virginamerica vx jfk la dirti plane standard',\n",
       " 'virginamerica flight vx head la jfk dirtiest va plane ever sad great airlin',\n",
       " 'virginamerica got squar away someon pick soon tweet tweet sooner',\n",
       " 'virginamerica avi rental continu button work websit book car tri time phone suck',\n",
       " 'virginamerica delay',\n",
       " 'virginamerica current minut hold cust servic need anyth add lap child reserv',\n",
       " 'virginamerica karinsle cours fun celebr thank happi chines new year',\n",
       " 'virginamerica flight book problem last second flight next week sfo san chanc want gift promo code sinc love guy',\n",
       " 'virginamerica comen bank joke pleas chang noth constant problem bank',\n",
       " 'virginamerica grandma ella th would lt bday greet flight crew stewardess eastern airlin',\n",
       " 'virginamerica bought tix atx dalla rout thank ad love yr airlin amp yr websit best transact site ever',\n",
       " 'virginamerica gave credit late flight flight yesterday great servic wow moment unexpect gestur',\n",
       " 'virginamerica submit statu match request back still heard fli monday look acceler',\n",
       " 'virginamerica safeti video http co cqmm nue love first cross countri flight livewelltravel sytycd',\n",
       " 'virginamerica look fat look yummi',\n",
       " 'virginamerica omg omg nonstop dalla austin virgin',\n",
       " 'virginamerica plane realli pretti thought u know',\n",
       " 'virginamerica pull hair tri book flight u site work iphon ipad comput help',\n",
       " 'virginamerica thank',\n",
       " 'virginamerica get help support ticket day incid thank',\n",
       " 'virginamerica good home texa moodlight http co n bvzti zi',\n",
       " 'virginamerica cannot even open laptop seat c paid premium let',\n",
       " 'virginamerica seat c cannot even open laptop paid extra seat',\n",
       " 'virginamerica thank need way make austin trip dca come',\n",
       " 'virginamerica cool never ur plane',\n",
       " 'virginamerica great well deserv',\n",
       " 'virginamerica fyi info virginamerica com email address say contact password reset email exist email bounc',\n",
       " 'virginamerica statu match week gone news flt next week hope flt count toward requir cust svc help',\n",
       " 'virginamerica websit suck donkey dick thought know best',\n",
       " 'virginamerica crap channel pay watch uk tv',\n",
       " 'virginamerica got set thank',\n",
       " 'virginamerica giant virgin america match made heaven',\n",
       " 'virginamerica thank good also see friday nwk gt sf boom',\n",
       " 'virginamerica come iphon app still use make wast paper',\n",
       " 'virginamerica back seat entertain system accept credit card apostroph surnam apostrophefail',\n",
       " 'virginamerica vx use lga slot instead today ad au make less like',\n",
       " 'virginamerica luv ur peopl product thing u charg herbal tea black tea caffein drinker',\n",
       " 'virginamerica thank see soon excit see expans destin spread wing',\n",
       " 'virginamerica sad learn longer fli sfo gt phl hope return',\n",
       " 'virginamerica incred custom servic ever experienc refresh',\n",
       " 'virginamerica dream realli open rout dalla austin mean houston might next',\n",
       " 'virginamerica omg final',\n",
       " 'virginamerica kinda suck earphon jack work flight may want look futur passeng',\n",
       " 'virginamerica poor experi first comput problem seat malfunct stuck miss meet san diego',\n",
       " 'virginamerica thankyou dal au rout make day',\n",
       " 'virginamerica awesom deal dal au way http co xcvqxykg',\n",
       " 'virginamerica love take southwestair backyard consum win biz compet',\n",
       " 'virginamerica fli love austin excel news',\n",
       " 'virginamerica congrat vx new rout',\n",
       " 'virginamerica tri offer charg addit k new ticket strand thur st time last time',\n",
       " 'virginamerica never bad experi one took cake extort carri item well',\n",
       " 'virginamerica spend hour worri item carryon would broken stolen sinc carri plane lock bag',\n",
       " 'virginamerica group e told room bin got plane room least bag row',\n",
       " 'virginamerica thank make flight lax jfk nightmar forc check carri bag gate',\n",
       " 'virginamerica lot flight book site work phone wait minut',\n",
       " 'virginamerica flight artisan chees wine pair',\n",
       " 'virginamerica classi',\n",
       " 'virginamerica sure lot jfk lhr flight go lot faster mph strong tailwind',\n",
       " 'virginamerica minu minut elev silver upgrad window open freeneversuck',\n",
       " 'virginamerica take year fli home dalla get shit togeth',\n",
       " 'virginamerica jezziegoldz would rough trip luckili virginamerica flight weather',\n",
       " 'virginamerica anoth perfect flight come plane sun visor stay carrier make rais',\n",
       " 'nice rt virginamerica man steel might faster wifi say sciencebehindtheexperi http co fgrbpazsix',\n",
       " 'virginamerica love danc littl richard cool bean',\n",
       " 'virginamerica use passbook still love though lt use email futur',\n",
       " 'virginamerica thank free birthday point right',\n",
       " 'virginamerica man steel fli citi though frequenc',\n",
       " 'virginamerica thank much share ad site http co tsvibtvt h',\n",
       " 'virginamerica dad segway best part whole infograph',\n",
       " 'virginamerica plan short haul airlin europ would defiantli fli guy',\n",
       " 'virginamerica wifi better seat',\n",
       " 'virginamerica start flight scold use overhead bin offer person seat next',\n",
       " 'virginamerica great return call day ask myvxexperi',\n",
       " 'virginamerica airlin cancel flight flight bo help custom get home virgin say good luck',\n",
       " 'virginamerica group virgin other bo weather expos actual cu serv model never flight book problem virgin',\n",
       " 'virginamerica one travel affect boston storm shock virgin complet apathi toward custom',\n",
       " 'virginamerica umm reason someon differ contact contact get definit answer',\n",
       " 'virginamerica tri make chang advanc hour prior tri onlin earlier want chang fee',\n",
       " 'virginamerica loyal drive nyc pa fli virgin sinc cut philli flight',\n",
       " 'virginamerica guy perfect alway lt wervirgin',\n",
       " 'virginamerica thank best custom servic left industri',\n",
       " 'virginamerica realli wish fli fargo fargoairport fare amaz',\n",
       " 'virginamerica mood light point reclin seat kickin feet',\n",
       " 'virginamerica flight schedul pm departur still say time plane gate updat long delay',\n",
       " 'virginamerica group got cancel flightlat fee waiv ticket book rep help either',\n",
       " 'virginamerica got pm newark home la folk ewr incred letsgohom',\n",
       " 'virginamerica fli lax sfo look awesom movi lineup actual wish long haul',\n",
       " 'unit thank',\n",
       " 'unit thank take care mr happi custom',\n",
       " 'unit still refund word via dm pleas resolv issu cancel flightl flight useless assist trip',\n",
       " 'unit delay due lack crew delay long line deic still need improv servic unit',\n",
       " 'unit thank fill luck common',\n",
       " 'unit eri ord express connect huge popular could eri ewr hop',\n",
       " 'unit think board flight au earli think',\n",
       " 'unit gate agent hook altern flight way prevent constant issu would rock',\n",
       " 'unit thank',\n",
       " 'unit thank ticket',\n",
       " 'unit worst nonrefund first class ticket oh select global fc system auto select economi w upgrad',\n",
       " 'unit cheertymedad buy tix day flight transfer tix flaw secur logic flaw custom servic',\n",
       " 'unit start claim week unrealist realli suppos go long car seat child ridicul',\n",
       " 'unit follow pleas airlin beautiful',\n",
       " 'unit car seat lost unit reimburs new one pair shoe necess child',\n",
       " 'unit highbuddyyi total suck cousin work phl said unit',\n",
       " 'unit want let know wonder rosetta gate agent work flight dan ase let know wasappreci',\n",
       " 'unit begin feb call unit said would send anoth voucher mail never got anyth tiredofwait',\n",
       " 'unit internet great thing email execut compani mayb respond time manner',\n",
       " 'unit that weak see ya hey virginamerica',\n",
       " 'unit flew back w compani sinc unit didnt earlier flight',\n",
       " 'unit tri book award septemb need flight aegeanairlin show even w mani award seat availab',\n",
       " 'unit sure drive total hour get bag like explain debacl one want talk',\n",
       " 'unit see told repeatedli pilot late flight kept get late flightr board defibril issu',\n",
       " 'unit prefer secur line anymor tsa pre check pull silverairway partner flight platinum spoil',\n",
       " 'unit newarkliberti airport need indic differ gate termin amp c flyingainteasi',\n",
       " 'unit ye pleas newli marri tri updat last name preexist intern flight seem easi',\n",
       " 'unit unit refus reissu lost voucher plane take due mechan badcustomerservic',\n",
       " 'unit also run instruct shatter comput http co oaflfr wxb',\n",
       " 'unit ye agent last minut one agent rude thank ladan nice',\n",
       " 'unit iah charlott baggag claim rep latric h customerservic non exist ignor custom inappropri touch custom',\n",
       " 'unit thank help got need issu austrian guess sit awhil longer',\n",
       " 'unit uctraveladvisor would love respond websit saw realli long form busi new seat bad',\n",
       " 'unit refund flight voucher anoth flight differ airlin expens today hour drive inconveni',\n",
       " 'unit receiv call back day infant car seat suppos go anywher child',\n",
       " 'unit well sit ground time wait gate tiredofthi',\n",
       " 'unit airport snow remov method keep good work folk cessna becom http co v tmusjvu',\n",
       " 'unit need guy book plane concern travel someon els move forward',\n",
       " 'unit measli e certif appreci loyal custom wait hr tarmac ua unaccept',\n",
       " 'unit email address usernam sign avail',\n",
       " 'unit thank abl claim interim expens cost stuff',\n",
       " 'unit rude rude',\n",
       " 'unit get board pass austrian airlin codeshar flight rebook incl hour layov amp stuck outsid sec',\n",
       " 'unit receiv flight unit truli break guitar unitedbreaksguitar wantmymoneyback',\n",
       " 'unit flew telaviv paid third suitcas even make plane besid impolit servic',\n",
       " 'unit bag still colo spring disabl search unfamiliar airport look bag good outcom',\n",
       " 'unit shame flex ticket transfer rule even call neurosurgeri icu enough',\n",
       " 'unit denver said handl baggag made colo spring gave number call help either',\n",
       " 'unit guy need seriou train custom servic mani better option put way guy handl ur mistak',\n",
       " 'unit found problem avoid like plagu told find supervisor',\n",
       " 'unit zcc u cancel flight flight h advanc need connect flight reschedul link help help gf wait month see',\n",
       " 'unit fli',\n",
       " 'unit addit first flight delay hour arriv destin hr late flight',\n",
       " 'unit flew unit last month experi awesom',\n",
       " 'unit travel book thru unit group dept okc ticket agent less will help connect lax',\n",
       " 'unit v upset disabl servic told one employe carri medic equip rude',\n",
       " 'unit thnx quick repli think assist intl grp put consider inconveni today',\n",
       " 'unit wont transfer flight ticket accompani yr old activ militari mom emerg brain surgeri wow',\n",
       " 'unit getmeontop week late flightr still receiv mile mileageplu gift card starbuck card hand',\n",
       " 'unit k alway hope improv',\n",
       " 'unit yet complain guy check luggag throw bag around unfortun coincid hope',\n",
       " 'unit okc ticket agent roger mclarren sp less help intl group travel problem find supervisor help',\n",
       " 'unit mobil app need construct ground os categori expens get right',\n",
       " 'unit anoth fail unit ticket agent okc less help could care less problem american come',\n",
       " 'unit also work wc coach good thing bird land ahead schedul use wc stat',\n",
       " 'unit sent email custom care tell may break sincer hope help',\n",
       " 'unit silli fli delta today unit club staff attend surli unhelp alway seem bother peski folk',\n",
       " 'unit phone number find call flight reserv',\n",
       " 'unit well fix miss buddi th bday neglig attempt make',\n",
       " 'unit believ help custom servic like said want number someon fix',\n",
       " 'unit help baggag servic desk said bc tsa screen fll bag made bag ewr',\n",
       " 'unit mobil board pass disappear phone stand line board second time week hmm',\n",
       " 'unit record rozana newark love help choosekind',\n",
       " 'unit thx updat',\n",
       " 'unit explain eager flight attend tri ask vision ccicanin guid dog',\n",
       " 'unit point ask detail servicedog book flight crew read continu',\n",
       " 'unit tri one avail bogota everyon rude houston stuck hour guy',\n",
       " 'unit worst unitedflightsev ua la iad mechan problem took land fix delay wtfodd',\n",
       " 'unit despit bag make newark good inform email track updat help',\n",
       " 'unit go ua outbound flight last thur delay hr long delay worst unitedflightsev',\n",
       " 'unit worst unitedflightsev ua iad la mechan problem switch aircraft delay hour',\n",
       " 'unit crash tri check',\n",
       " 'unit wow deal plu seat avail easi chang make custom happi',\n",
       " 'unit logan board gong show due lax carri enforc bin full coat room bag u need better system',\n",
       " 'unit blackmail pay extra return ticket nullifi san francisco airport terribl servic rep scam',\n",
       " 'unit disappoint u didnt honor credit given ur mistak take busi elsewher',\n",
       " 'unit ua still wait suppos depart',\n",
       " 'unit credit last trip never came mail',\n",
       " 'unit ok month wait hear airlin gave quit bit day request terribl servic',\n",
       " 'unit process ever end still wait repli sinc month pathet customerservic',\n",
       " 'unit go websit flight book problem three ticket today boot system umpteen time',\n",
       " 'unit get account number websit say email unavail',\n",
       " 'unit receiv bag last night still miss one',\n",
       " 'unit simonroesn need upgrad seat even economi plu like sit concret bench',\n",
       " 'unit nd flight also delay pilot board sit schedul',\n",
       " 'unit hard stay upset someon least tri show remors',\n",
       " 'unit way simpl apolog goe long way even hollow one obviou care well',\n",
       " 'unit one time thing either shock pattern repeat neglect disrespect',\n",
       " 'unit finger cross amp intact disappoint experi actual say enjoy use',\n",
       " 'unit incred easi fix would rather stay comfort zone get forc mine',\n",
       " 'unit juli zero excus date system caus problem like',\n",
       " 'unit everyon around us sit friend famili member book ticket octob decemb bought',\n",
       " 'unit sure talk go nonstop flight sna sfo sfo ewr',\n",
       " 'unit move americanair unit talk servic',\n",
       " 'unit ask legitim question systemwid vs local problem got back unrel flightd copi past better',\n",
       " 'unit time call need ski go airport get faith unit',\n",
       " 'unit see guy amaz one compani continu make mistak yet fail held account error',\n",
       " 'unit yeah sorri alway problem unit intern reput problem',\n",
       " 'unit mayb bbbne sd ks ia would care hear went whoever listen issu caus',\n",
       " 'unit wonder share fb insta would produc number charact realli limit stori tell',\n",
       " 'unit tell number call left airport neglig pilot staff',\n",
       " 'unit could email resent doesnt appear arriv',\n",
       " 'unit follow order dm come',\n",
       " 'unit unit coupon make broken entertain system hour flight serious ridicul learncustomerservic',\n",
       " 'unit drop bag overnight amp leav week suppos hold bag',\n",
       " 'unit dm detail still respons book today',\n",
       " 'unit abl dm confirm number',\n",
       " 'unit sent messag let know got twitter liter also realli go stuck hr',\n",
       " 'unit unhappi respons complaint email nd feb ref aw custom servic',\n",
       " 'unit privat jet would cool work tri',\n",
       " 'unit given option use unit travelbank recent flight book problem help use recoup fund thank',\n",
       " 'unit common keep paper work readi delay flight meet choosechicago',\n",
       " 'unit yep correct got email flight cancel flightl matter flight atl delay thx',\n",
       " 'unit k problem get fll iah sent dm make connect pleas let know',\n",
       " 'unit thank sent',\n",
       " 'unit ground montreal ua miss connect ua st loui help privat jet',\n",
       " 'unit frustrat nervou',\n",
       " 'unit one make difficult',\n",
       " 'unit child someon issu fli prepar ahead time reduc distress caus plane',\n",
       " 'unit get cancel flightl hour take',\n",
       " 'unit alway happen guy make travel incred stress uncomfort good busi',\n",
       " 'unit someon sever anxieti one person help next',\n",
       " 'unit seek go client b c u cant get need refund fill form confid work past indic',\n",
       " 'unit unrival access california flight u uk airport nonstop one stop connect year round',\n",
       " 'unit luckili made flight time disappoint lack commun',\n",
       " 'unit check see flight atl ord got cancel flight',\n",
       " 'unit servic far horrid want end trip high note guess option',\n",
       " 'unit book flight home month ago request seat togeth fianc e got middl seat unaccept',\n",
       " 'unit guy horribl',\n",
       " 'unit thnx info',\n",
       " 'unit pay wifi intern busi ticket pennypinch',\n",
       " 'unit ok top thing lost luggag could get wors unitedairlin',\n",
       " 'unit kudo cancel flightl flight dfw morn unit usual first panic',\n",
       " 'unit luggag broken youcouldntmakethi brokenwheel',\n",
       " 'unit mayb one day one quot http co mjkpgvxmpc',\n",
       " 'unit flight delay one rememb turn heat flight leav ord serious',\n",
       " 'unit anoth awesom new plane flight extrem nice captain steve connolli',\n",
       " 'unit speak real person get resolv polit effici',\n",
       " 'unit file refund claim told charg dm disput bank henc would like',\n",
       " 'unit bag make flight iad second day without cloth pretti inconveni pretti curiou unitedairlin',\n",
       " 'unit everi unit flight saipan guam adventur never know capeair old plane oper',\n",
       " 'unit henc ask custom servic phone number speak real person get sort',\n",
       " 'unit bag leav washington yet would conveni see left day ago unitedairlin lostluggag',\n",
       " 'unit accord dm owe refund pleas may provid contact number go bank file claim',\n",
       " 'unit hour ago need work bag make hotel time need go elsewher',\n",
       " 'unit pl properli train agent request speak k custom servic amp transfer dead end even open hr',\n",
       " 'unit thank rememb load bag onto connect flight oh wait forgot iceland fun cloth',\n",
       " 'unit thank chees platter abund entertain option time flew',\n",
       " 'unit custom servic atroci disrupt travel plan lost luggag imposs talk human',\n",
       " 'unit termin mia food open esp flight two hour earli like recommend eat',\n",
       " 'unit ua flight current stuck portland miss ride hour delay getmartyhom',\n",
       " 'unit respond variou request contact number anyon know uk custom servic number unitedairlin',\n",
       " 'unit look get bag lusaka',\n",
       " 'unit could updat suitcas pleas onlin phone track told noth told back yesterday',\n",
       " 'unit thank tri two day set',\n",
       " 'unit last thing u guy charg drink transatlant flight',\n",
       " 'unit lhr arriv loung fail wait min shower left find hotel u know mani passeng u carri plan',\n",
       " 'unit complet form doubt use ua care day vacat sure ua feel respons',\n",
       " 'unit definit compliment realli thought bag lost sent anoth airport end happi custom',\n",
       " 'unit thanx much follow email ticket voucher unitedairlin care',\n",
       " 'unit definit trip rememb ewr sti second season first seat pay loyal',\n",
       " 'unit nope told us time go home sleep airport even though assur us would get room',\n",
       " 'unit back expens holiday work year pay ruin want compens amp origin case back',\n",
       " 'unit thank unit understand would actual like bag back done also want money',\n",
       " 'unit frankli wors custom servic ever problem happen deal defin compani never unit',\n",
       " 'unit still valid flight seem strang delay late flight inbound crew hour plane alreadi',\n",
       " 'unit thank lack help can respons k desk',\n",
       " 'unit bad ua anoth unforese oper issu return flight',\n",
       " 'unit pay luggag deliv arriv wait addit day deliveri',\n",
       " 'unit hotel peopl feel like held hostag someon board pass leav fail',\n",
       " 'unit one great airlin',\n",
       " 'unit outbound bag lb bag return home bag lb logic write machin human help requir',\n",
       " 'lindaswc unit like hear poor experi pleas share detail w custom care team http co hisc ndmgz',\n",
       " 'unit cancel flightn left us fend flt came late flight get runaround hr employe blame previou',\n",
       " 'unit okay ase find luggag',\n",
       " 'unit agent met us gate said issu w delay ua would taken onlin',\n",
       " 'unit ladi one phone say tel aviv tel aviv unit say newark one know noth',\n",
       " 'unit melaniespr see kn run plane run thank help',\n",
       " 'unit ye still answer mani luggag day unaccept',\n",
       " 'unit go noth like alway',\n",
       " 'unit plu food taxi',\n",
       " 'unit offer us room peopl fail',\n",
       " 'unit peopl get pretti tire action solv problem plu miss day vacat ski',\n",
       " 'unit bright side would keep promis made hope good night thank',\n",
       " 'unit take back comment team work hard help us far solut hotel food anyth fail',\n",
       " 'unit arriv two hour late flight clt sit tarmac move plane gate unhappi custom',\n",
       " 'unit airlin absolut worst idea neveragain unitedairlin',\n",
       " 'unit thank might want fix line custom care team current respond inquiri within busi day',\n",
       " 'unit flew unit au austin bergstrom cancun intl best flight ever big small',\n",
       " 'unit frustrat frequent flyer loyal sinc continent upgrad equal pay time top purchas ticket',\n",
       " 'unit wors figur pack plane screw connectn claim hotl room san fran strand pax way go',\n",
       " 'unit passeng hour delay flight left hotel end night hou airport wtf http co zfqmpgxv',\n",
       " 'hey unit flight iah po leav late flight one back iah earli rather get po earlier',\n",
       " 'unit lost bag process broken agent promis call amp hold bag found wake w deliveri fail',\n",
       " 'unit peopl counter help see nobodi flight austin still sit',\n",
       " 'unit darquenlov regret hear pleas let us know need assist kn final abl secur seat thx',\n",
       " 'unit good know open close door premier passeng safeti brief delay flight annoy',\n",
       " 'unit yea get phoenix alreadi delay day peopl bullshit',\n",
       " 'unit consol staff stellar hour delay encount everi one flight',\n",
       " 'unit flight ua gate b tell ray somehow made flight iah wait one',\n",
       " 'unit unfortun tumitravel xma gift look like razor rip right front pocket pictur',\n",
       " 'unit thank ask',\n",
       " 'unit lost bag cancel flightl flight delhi call center poor unit staff spread thin stress name',\n",
       " 'unit ye make mistak less absurd chang fact inconveni miss luggag tonight',\n",
       " 'unit constantli challeng upgrad amp charg order prevent dvt pay addtl http co xc jq r b',\n",
       " 'unit ord wait min crew member left gate item came flight attend sarcast said good luck walk away',\n",
       " 'unit',\n",
       " 'unit favorit airlin',\n",
       " 'unit serious fail make stranger share room',\n",
       " 'unit need asap make today flight',\n",
       " 'unit agent split reserv cancel flight refund credit wk',\n",
       " 'unit would make share room',\n",
       " 'unit tri call w min phn wait mean miss option anyway',\n",
       " 'unit ask guy flight bwi wait us get delay flight san diego pretti pleas',\n",
       " 'unit still wait find rep work hard upset wait tomorrow pm get mammoth',\n",
       " 'unit earli flt think call appropri ye review nada avail next day expect full refund',\n",
       " 'unit ask call get fix tweet bs question stall make thing wors phone number pleas',\n",
       " 'unit yo yo yo stuck tarmac hour fli ohar go miss ride flypdx help pleas helpimstuck unit',\n",
       " 'unit highli unprofession overbook flight seat amp feel rearrang schedul mismanag',\n",
       " 'unit well consid everi agent claim unabl help everyth els wast time hear call corp',\n",
       " 'unit man wait book ticket thank jp life sabe',\n",
       " 'unit ice total understand larg number us face hour time overnight cancel flightat seem like',\n",
       " 'unit flt cancel flightl get email happen courtesi phn call book diff airlin amp citi',\n",
       " 'unit tag number let find bag',\n",
       " 'unit better train support staff appropri decorum consid revisit terribl provid death certif polici',\n",
       " 'unit well bar set low guy realli good apolog game chang u guy learn',\n",
       " 'unit guy continu impress houston http co cih qnllcm',\n",
       " 'unit way make phone call need handl via twitter email web thank',\n",
       " 'unit websit deserv new design html ftw',\n",
       " 'unit thank ef holiday miss full day ski due baggag team incompet flyyow',\n",
       " 'unit agent help person front finish walk away guy behind shock',\n",
       " 'unit connect ord exact plane check carri appar taken amp left chicago pretti ridicul',\n",
       " 'unit encourag cpap tonight',\n",
       " 'unit ye file claim soon carousel stop without bag got email found sched deliveri',\n",
       " 'unit delay den cle manual enter baggag tag realli worst cust servic day ker friendlyski',\n",
       " 'unit tell us flight delay tell us time min spare say delay unless sure',\n",
       " 'unit ye lusaka zambia guess bag never made plane iad',\n",
       " 'unit late flight denver late flight newark let even get disast check bag unaccept',\n",
       " 'unit let think ever flown problem worst airlin period',\n",
       " 'unit ye file claim amp hope receiv luggag ridicul purchas item go sleep amp reimburs',\n",
       " 'unit ua ord lhr bag load min late flight frigid air cabin plane feel like fall apart upgrad long haul fleet',\n",
       " 'unit flight attend never serv beverag tea check give ua notcool',\n",
       " 'unit load balanc system appar systemwid major impact unit airlin flight cyberattack',\n",
       " 'unit unschedul refuel stop miss connect flight r home n look ward bed big pb amp j sandwich',\n",
       " 'unit americanair spent hundr rectifi situat guy go quiet',\n",
       " 'unit ua sit ewr nearli hour sked pilot say comput clue leav help',\n",
       " 'unit americanair end come travel liter extra day half',\n",
       " 'unit made upgrad list fli st tomorrow min first time ever statusmatchpaidoff http co atfrkp goy',\n",
       " 'unit refund us vacat get free room night make make us sleep dia',\n",
       " 'unit thank remind fun ride http co ppva rch f',\n",
       " 'unit receiv luggag also look left snow arriv ask peopl refund',\n",
       " 'unit updat aircraft wifi devic entertain outlet get charg devic',\n",
       " 'unit one scan insid plane ask peopl line around plane go',\n",
       " 'unit gate chang two delay even crew think airlin suck',\n",
       " 'unit frustrat wast day due equip failur',\n",
       " 'unit comput stop give updat took flight info app ridicul keep peopl updat',\n",
       " 'unit soooo day offer respons assum poor treatment gate agent norm',\n",
       " 'unit terrif mani thank look forward back ua tomorrow great flight vancouv',\n",
       " 'unit call result hr hold time amp day wait check suspect code share fare noth investig time wast',\n",
       " 'unit taken week cust care respond case request refund wi fi work get updat',\n",
       " 'unit appreci effort get home',\n",
       " 'unit correct spent hour tri book onlin receiv error click final purchas button',\n",
       " 'unit today finest could prevent one gate agent advis passeng',\n",
       " 'unit real deal delay flight ua denver vega',\n",
       " 'unit ua madrid arriv agent mass confus sent fro ua employe maryjo rude unhelp',\n",
       " 'unit system failur bad trend softwar project like fli airplan thing emerg takeoff',\n",
       " 'unit lot report system failur delay flight last week current sit tarmac ogg hour',\n",
       " 'unit despit shaki connect look like get home tonight great job unit touch go',\n",
       " 'unit http co hj kq chn howev complet control price still display http co hj kq chn',\n",
       " 'unit tell file claim cloth purchas',\n",
       " 'unit comic return flight ase two unit flight board adjac gate clear plane board',\n",
       " 'unit grk file refer',\n",
       " 'unit would contact discuss poor experi custom servic would give shot',\n",
       " 'unit ua pacif rim date night cut constantli randomli one spot repeat',\n",
       " 'unit tri sinc file report',\n",
       " 'unit send email bad experi send back gener respons yet anoth reason never fli',\n",
       " 'unit ticket pleas refund unnecessari upgrad fee',\n",
       " 'unit horribl lost carseat expect us use loner carseat safeti regul say illeg use use car seat',\n",
       " 'unit thank',\n",
       " 'unit care thehipmunk link show wrong price site site amp respons ensur correct',\n",
       " 'unit need get home th tell th night compens anyth done',\n",
       " 'unit mllovelac baggag fee waiv premier member pleas see http co u duw mde jp point membership',\n",
       " 'unit wonder bag claim peopl final bag catch earlier flight origin flight land wastedtim',\n",
       " 'unit dmed thank',\n",
       " 'unit thank touch',\n",
       " 'unit thank karen salisburi iah amaz custom servic found daughter bag lost ua made day',\n",
       " 'unit day late flightr bag left iad unit help everyon tell differ stori',\n",
       " 'unit left comment custom care thank contact',\n",
       " 'unit lose gate check bag den ord direct flight ugh',\n",
       " 'unit caught earlier flight ord gate check bag lost hare origin flight land minut frustrat',\n",
       " 'ye thank much unit whitterbug see spoke reserv team reinstat flight thank ey',\n",
       " 'unit captain behalf front offic welcom board never heard laugh hard funnycaptain',\n",
       " 'unit pleas follow dm miss bag',\n",
       " 'unit great fare',\n",
       " 'unit left item plane call non stop one answer pleas help',\n",
       " 'unit awesom book next christma vacatinn decemb way want devalu mileag plu',\n",
       " 'unit good number call speak someon fix peopl luggag saturday',\n",
       " 'unit thank u secur room night thx help custom servic rep n dorn thank u goodenoughmoth',\n",
       " 'unit damn bag',\n",
       " 'unit well someon tell employe denver baggag claim still bag',\n",
       " 'unit divert miss connect flight told bag way msi peopl care',\n",
       " 'unit male agnt la threaten canadian cust cust take pic gate agent announc help rebook friendlyski',\n",
       " 'unit apollochplay want go home tonight cancel flight last leg reserv w permiss ph rp',\n",
       " 'unit stress rude agent overwhelm delyd flight la den yell sever peopl pretti friendlyski',\n",
       " 'unit land boston last night hour travel rough tho',\n",
       " 'unit fail cancel flightl flight frm gjt use reserv home iah sea reflight book problem w permiss ph rp',\n",
       " 'unit made fli list airlin wait connector late flight stuck iah',\n",
       " 'unit also mere fact go onlin issu statement vice call talk directli one good exampl',\n",
       " 'unit thank flew newark vail eagl',\n",
       " 'unit weekend deal compani would say otherwis',\n",
       " 'unit http co hpsqvrjk flight gone got plane businesstravel goodenoughmoth',\n",
       " 'unit proper respons sorri wait flight look issu delta would handl',\n",
       " 'unit custom servic terribl stood inlin hour flight hour late flightr still bag disgutedindenv',\n",
       " 'unit inadequ accid',\n",
       " 'unit reebok rockinwel denver intern airport http co tkvmhbkec',\n",
       " 'unit thank respond quickli help tool dustyob',\n",
       " 'unit board time show min gate agent start show check bag http co zcbjyo lsn',\n",
       " 'unit agent la let custom know help rebook delay flight den unfriendlyski http co quzvmk rtr',\n",
       " 'unit empath w disappoint stclass flight w nonwork entertainmnt worth unfriendlyski http co loeco gmvd',\n",
       " 'unit work',\n",
       " 'unit search mileag ticket bom find singl one saver award see play earn mile use',\n",
       " 'unit flight arriv minut earli wait hour bag',\n",
       " 'unit issu fact one even call despit promis confirm bag locat',\n",
       " 'unit still wait hear back wallet stolen one plane would appreci resolut',\n",
       " 'unit flysaa lost baggag heard differ thing differ employe unit flysaa said noth',\n",
       " 'unit cs think mile repair damag done interest travel unit exp worst flight ever',\n",
       " 'unit sign notif first trip updat sure happen',\n",
       " 'unit thank took care everyth made right experi use open app find flight chang',\n",
       " 'unit line respons wait tomorrow morn flight overbook',\n",
       " 'unit took exact aircraft lax day ago fit problem agent today told nonsens polici chang',\n",
       " 'unit help agent club help baggag fee night life stop busi silverairway',\n",
       " 'unit never heard http co qdebyahqfm',\n",
       " 'southwestair charg ticket chang fee incur mysteri cost incur unit',\n",
       " 'unit exhaust amp frustrat link fb post abt travel issu http co larkc vc',\n",
       " 'unit deni get plane w get chanc prove fit rooki read bio',\n",
       " 'unit exactli point fit premier access board group return ticket yr',\n",
       " 'unit never experienc worst custom servic place blame codeshar partner assum respons unaccept',\n",
       " 'unit current board check terribl staff rude expens luggag thrown around etc',\n",
       " 'unit fuck void ticket kept money even apolog never fli airlin unitedairlin',\n",
       " 'unit worst custom svc kevin rep call center must investig baggag lost help argument',\n",
       " 'unit sell ticket silverairway http co onhxhco bk terribl servic ua staff cannot reach silver',\n",
       " 'unit got demot gold cuz hubbi got pqd tho enuf spent gold spousal discrimin angri',\n",
       " 'unit thank',\n",
       " 'unit favorit way travel thank http co vgn x ckg',\n",
       " 'unit ye lot terribl custom servic newark despit rais complaint ignor henc tweet',\n",
       " 'unit love new plane lga ord power outlet',\n",
       " 'unit tweet id number reveal home address anyon web',\n",
       " 'unit file delay bag report saturday flight cancel flightl never went anywher',\n",
       " 'unit need land ewr baggag claim file sent employe droppeditoffyet',\n",
       " 'unit rare ceas amaz wors hope last time fli',\n",
       " 'unit icloud yet pleas help',\n",
       " 'unit respons back',\n",
       " 'unit atroci custom servic',\n",
       " 'unit albanyairport delay departur check bag gate claim space fill walk open space delay poorcustomerservic',\n",
       " 'unit cancel flight flight reason amp phone hour vacat',\n",
       " 'unit dfpietra respons shake head back forth tsk better custom servic apolog',\n",
       " 'unit cours bag frustrat',\n",
       " 'unit worst avoid like plagu',\n",
       " 'unit worst airlin world',\n",
       " 'unit someon need dm resolv correctli extrem disappoint servic receiv terribl manag',\n",
       " 'unit premier gold desk chang flight waiv fee give wrong flight jana acosta salt lake refus servic angri',\n",
       " 'unit give one thing consist unfortun consist job well alwaysdelayedonunit',\n",
       " 'unit right angri',\n",
       " 'unit first time fli unit also last time terribl back virginatlant branson virginatlant unitedairlin',\n",
       " 'unit use commit continentalairlin flyer merger rememb switch southwestair communicationfail',\n",
       " 'unit least could offer ticket coach instead cancel flight reserv glitch notfair',\n",
       " 'unit say made flight poor non commun unaccount lost time amp lot frustrat flyer stand around',\n",
       " 'unit think dm would better',\n",
       " 'unit gate announc state delay due mainten yet app say late flight arriv aircraft tell truth unfriendli',\n",
       " 'unit easili worst compani ever experienc lost someon person possess amp care less',\n",
       " 'unit app show arriv aircraft earli depart flight delay due late flight arriv aircraft unfriendli',\n",
       " 'unit alreadi airport hr late flightr still guy realli kill today tri stay posit',\n",
       " 'unit unit servic level reach etihad let realist lufthansa ill consid',\n",
       " 'unit realli someon call sick someon forgot call replac hour late flight take theworst',\n",
       " 'unit ask flight attend typic compens would amp say might get free tv unaccept',\n",
       " 'unit disappoint today simpli put rather unpleas thing current flight delay cant wait get home',\n",
       " 'unit round trip non english speak friend strand twice hour time staff member rude',\n",
       " 'unit found group peopl actual hate peopl isi that right unit airlin',\n",
       " 'unit nope walk amp orf termin amp unit agent found show last minut board us mani panick peopl',\n",
       " 'unit thank',\n",
       " 'unit time final get dalla could driven less frustrat cheaper',\n",
       " 'unit tri get final destin need compens hr person time wast',\n",
       " 'unit guy realli custom servic clue could spent effort clear bin rollerboard instead art project mine',\n",
       " 'unit prioriti iov',\n",
       " 'unit pleas premier platinum',\n",
       " 'unit put bag plane seattl flight wait line talk someon bag statu matter',\n",
       " 'unit campilley hahaha american compani would say great sarcasm',\n",
       " 'unit think actual like screen campilley',\n",
       " 'unit appar ask peopl board plane big miscalcul made',\n",
       " 'unit shame choos unit may differ reunit age friend never see poorservic',\n",
       " 'unit check statu claim go month attent upset',\n",
       " 'unit flight delay due mainten lit caus miss connect iah msi help',\n",
       " 'unit unitedairlin pl fix aspenbaggagefail issu pay way aspen flight cancel flight left us cold den',\n",
       " 'unit read bio see work never encount airlin disappoint understat',\n",
       " 'unit custom care email phone rep speak mani issu place charact',\n",
       " 'thank unit truu tall certainli take look pleas follow dm confirm number assist jh',\n",
       " 'unit process recov car rental condo rental florida call unit altern flight noanswer',\n",
       " 'unit thank listen definit person line thought absurd',\n",
       " 'unit wait tarmac gt hr appar ua overweight amp return gate wtf fb',\n",
       " 'unit thank mention board ask person measur bag anoth woman men ask',\n",
       " 'unit leav tarmac unit gate agent cannot agre head count min count peopl max epicfailunit',\n",
       " 'unit real dedic amp concern apolog fix issu miser issu past mo',\n",
       " 'unit block dm ing would rather complain public forum',\n",
       " 'unit ok submit thank opportun give feedback',\n",
       " 'unit big thank ms winston assist phone baggag claim issu today realli went extra mile',\n",
       " 'unit soon done articl thank tom',\n",
       " 'unit book flight charg twice mean redeem cc point properli would gone elsewher',\n",
       " 'unit ton problem get bag given run around day what',\n",
       " 'unit pedophil airlin split yr old daughter row apart flight boston',\n",
       " 'unit wait day militari bag airport hour away horribl',\n",
       " 'unit arriv minut earli nice equip readi wait minut luggag far time gain wipe',\n",
       " 'unit musician real dirti lax never block get flight bass',\n",
       " 'unit rebook line peopl deep',\n",
       " 'unit flyeia ye said took hour',\n",
       " 'unit whose pay actual fli k year deserv better servic cc holder',\n",
       " 'unit ok thank help',\n",
       " 'unit happi flyer ua flight sfo cleveland sunday stay tune blog articl http co vdfdodqvgx',\n",
       " 'unit flight plane sfo den basic time',\n",
       " 'unit thank program comment system assign seat behind even though pair avail chang back',\n",
       " 'unit min delay flt sfo load pax make sens strand mani us overnight ord due miss cnxn',\n",
       " 'unit head check bag check arriv claim peopl bag http co dplq mhqgd',\n",
       " 'unit must drone unit keambleam understand frustrat bag team work hard get bag',\n",
       " 'unit chang made hour someth taken second onlin thrill love agent though',\n",
       " 'unit flight attend understand understand english mean deaf stop yell english slowli',\n",
       " 'unit appropri ask public henc dm unit employe new answer process hassl cancel flight',\n",
       " 'unit well big terribl high expect point',\n",
       " 'unit like tri make hate airlin fee check bag never mention ticket rude agent',\n",
       " 'unit nice app say us delay weather pilot say wait fuel one ur control one',\n",
       " 'unit pleas robin ewr premier desk help get earlier flight work huge thank',\n",
       " 'unit ok thank provid complimentari hotel accommod sinc stay overnight',\n",
       " 'unit origin tri share detail link jimmi samartzi vice presid custom experi sent expir',\n",
       " 'unit realli hr delay gate chang amp board us sent us back amp board us chang flight go',\n",
       " 'unit would help integr app activ surf',\n",
       " 'unit ac went minut return mojav desert pressurecook heattrap',\n",
       " 'unit nope still one help give unit badservic',\n",
       " 'unit airlin caus miss connect u would think would take whatev step remedi screw',\n",
       " 'unit thank help take hour repli get messag middl night actual help',\n",
       " 'unit flight ua descend farc left ewr yet go get wors',\n",
       " 'unit told due ua fli direct dublin go london complet shambl',\n",
       " 'unit min ewr baggag claim stillnobag ridicul',\n",
       " 'unit standbi denver delay confirm aspen whose flight cancel flight day confid',\n",
       " 'unit ye back plane delay due baggag load issu http co nfaqhhr j',\n",
       " 'unit pt u cancel flight final got stndbi pm flight day missedwork clientnothappi http co suprlfoi',\n",
       " 'unit thank kind agent went amp beyond get strand famili home',\n",
       " 'unit see justifi cost get earli flight seat airlin charg conveni get passeng earli',\n",
       " 'unit woke notif flight move hr earli bare made flight hr layov sfo want hop earlier option',\n",
       " 'unit delay baggag claim land hope bag broken damag lost w c result complaint',\n",
       " 'unit done want send screen shot second call minut',\n",
       " 'unit look beauti dc unit airlin http co mvyoizrpd',\n",
       " 'unit thank fill form soon land like dupe hope appreci feedback amp better',\n",
       " 'unit line denver rebook due weather issu better http co tmccexyaaq',\n",
       " 'unit one suffer understand delay understand tri speed process delay extent',\n",
       " 'unit cancel flight flight late flightr agent claim put new flight cancel flight cowork got flight delay',\n",
       " 'unit urgenc ridicul ceo claim custom focus yet delay happen plane sit custom',\n",
       " 'unit ask full refund delay hour give reason enough give partial credit',\n",
       " 'unit flight schedul move never flight everyon move without sens',\n",
       " 'unit ok thx',\n",
       " 'unit go hell',\n",
       " 'unit sinc bulkhead seat cannot bag floor u reserv head space seat b ua impress',\n",
       " 'unit would help could refresh board time info board pass delay flight',\n",
       " 'unit flight far year delay includ cancel flightat late flightst reason crew need mandatori sleep mexico',\n",
       " 'unit great hear thankyou much greatli appreci repli feel much settl',\n",
       " 'unit counter agent rdu deserv medal thankyou',\n",
       " 'saga melissaafr bag delay w unit reunion forc go shop stay tune',\n",
       " 'unit flight ord gate agent tri prevent take onboard bag use year flight crew reason',\n",
       " 'unit thank liter call preboard ran',\n",
       " 'unit guy split charg credit card make unnecessarili expens peopl fli guy pt',\n",
       " 'unit ua feb point oversel flight bad make peopl wait hr kick board wors',\n",
       " 'unit brilliant thankyou much class part carryon',\n",
       " 'unit thank listen compliant right thing appreci work',\n",
       " 'unit sinc cancel flightl flight twice',\n",
       " 'unit chanc wait ord afternoon anoth flight screw hold',\n",
       " 'unit ua wait ground tri get gate move b crap',\n",
       " 'unit mex nrt date tbd get usd differ quotat septemb compar mex bkk',\n",
       " 'unit better keep connect ord fwa board ten minut open get plane land hour late flight',\n",
       " 'unit unit gold number hold minut think may lost nowhereland gold reserv help',\n",
       " 'unit great readi go home',\n",
       " 'unit wow even answer back awesom americanair usairway custom servic usairwaysfail',\n",
       " 'unit noooooooooooooooooooooop',\n",
       " 'unit oh sure plan occur absolut consist usual yyj flight cancel flightl daili',\n",
       " 'unit jm outsourc unit airlin custom love outsourc outsourc outsourc',\n",
       " 'unit thank need follow back tho otherwis dm x',\n",
       " 'unit get better suggest get senior manag gate retrain gate peopl',\n",
       " 'unit jm noth like support mechan mainten worker instead unit put video timco wifi',\n",
       " 'unit sent thank',\n",
       " 'unit alreadi miss connect ugh',\n",
       " 'unit jm sure show video outsourc favorit timco knack substandard mainten work aircraft',\n",
       " 'unit formal complain custom servic handler misconnect deni board amp lost bag help',\n",
       " 'unit lot unhappi cold peopl bridg freez temp hour given info',\n",
       " 'unit flight iad sat outdoor track hour',\n",
       " 'unit serious wifi hr flight cle sfo airlin w wifi pl unwind bs',\n",
       " 'unit u would abl rebook get home sooner hr delay flight linesforev customerservic fail',\n",
       " 'unit reason whole travel experi nightmar',\n",
       " 'unit pointless tweet least americanair ask follow tri resolv',\n",
       " 'unit even apolog',\n",
       " 'unit cool',\n",
       " 'unit serious wifi hr flight cle sfo airlin without wifi',\n",
       " 'unit b board attend took shoe amp sock desk show agent foot gross http co vpym mv',\n",
       " 'unit unitedairlin pm ord abq even take walk without miss chang',\n",
       " 'unit hope baggag fee waiv tomorrow actual get flight well compens hotel room',\n",
       " 'unit either fine howev plunder hard earn dollar fine',\n",
       " 'unit sfo yyj fight cancel flightl sever time week even bother',\n",
       " 'unit wait new pilot door plane broke global servic statu airlin unsaf stun',\n",
       " 'unit get reimburs hotel taxi cancel flightat',\n",
       " 'unit awesom flight crew ua plane jurass period call want dinosaur plane back',\n",
       " 'unit unit unabl look flight reserv passeng name yyz check counter wow smh customerservic',\n",
       " 'unit e ticket refund request case id',\n",
       " 'unit phone hour custom servic figur awesom servic',\n",
       " 'unit realli know piss peopl farelock option fake',\n",
       " 'unit last week shanghai sfo delay hr bc engin today sfo sea delay sick pilot compens care',\n",
       " 'unit thing confus lost prioriti board mileag plu card member',\n",
       " 'unit hope hear actual',\n",
       " 'unit she reschedul today frigid cold possibl reason mainten could issu day',\n",
       " 'unit fact intern bag sens go mainten',\n",
       " 'unit b contact directli phone servic laissez fair best problem cancel flightl flight',\n",
       " 'unit intern phone fritz get chicago nearli hr away figur everyth',\n",
       " 'unit sorri delay respons ua chicago san fran held almost hour tarmac also lost bag',\n",
       " 'unit okay thank could pleas updat told airport someon would call today',\n",
       " 'unit thank much help pick bag aspen airport amp come today flight',\n",
       " 'unit gate c iad u releas passeng board w other deplan peopleon bridg next flight board http co hfof iyhi',\n",
       " 'unit say public extend vacat week point advertis multipl flight honor',\n",
       " 'unit cancel flight flt ewr crew tell wife amp yr old get ny catch aircanada yyz good customerservic dead',\n",
       " 'unit arriv day half late flightr suppos lesson day believ verbal written confirm unit',\n",
       " 'unit arriv airport hour departur time still miss flight bc actual electron ticket',\n",
       " 'unit hour delay noth say sorri like voucher miss time famili famili precioustim',\n",
       " 'unit two whole peopl tri schedul flight worth miss connect shame http co kqlhvap g',\n",
       " 'unit unfriendli screw famili hate kid mom wait ua pray better fyvrfn due agent error tickt',\n",
       " 'unit gate agent ewr disabl wheel chair time board pleas step step lol',\n",
       " 'unit help done',\n",
       " 'unit forc us check babi bag overbook flight complain wife need much babi unit babi meal',\n",
       " 'unit would love help get today ewr take airlin connect thx',\n",
       " 'unit today take flight san francisco refus let us board babi earli time board wont let us take babi carryon bag',\n",
       " 'unit four schedul flight reserv liter take one unreal',\n",
       " 'unit ord hotel issu yr old ticket need fix anoth hour agent l r nightmar still',\n",
       " 'unit hour rebook hour l r problem arriv gate stop caus infant sit yr old lap',\n",
       " 'unit arriv yyz take flight taiwan reserv miss ticket number slow agent sukhdeep caus us miss flt',\n",
       " 'unit thank',\n",
       " 'unit thank updat',\n",
       " 'unit three peopl awesom work long hour easi say sorri twitter help ppl ewr',\n",
       " 'unit guess excus understaf costum servic peopl deal lot angri passeng weather',\n",
       " 'unit cancel flightl wife daughter flt go follow dm detail',\n",
       " 'unit depart await inbound plane yesterday three hour never arriv stay overnight',\n",
       " 'unit confirm seat crisi avert beer miss',\n",
       " 'unit english dm though think make plane appear',\n",
       " 'unit look like today th consecut delay flight win prize southwest air fli sba',\n",
       " 'unit sit plane pilot thank waitingonapilot denver siouxfal whyairtravelsuck',\n",
       " 'unit understood thank tri reach sooner',\n",
       " 'unit alreadi done answer got oop give mile sorri pay discomfort h',\n",
       " 'unit receiv hotel food also email mile last trip hr delay mile less cancel flightlat',\n",
       " 'unit know ua delay x get crazi alreadi overnight delay unitedairlin',\n",
       " 'unit frustratingli delay happen either gate even onboard aircraft head advanc',\n",
       " 'unit den b agent amaz mpagent check suck seanmfmadden peterstraubmma jmercadomma tonysimsmma',\n",
       " 'unit ua also delay hour stretch trip way past midnight extrem exhaust',\n",
       " 'unit ha rebook hr layov amp rob night famili late flight fli time',\n",
       " 'unit switch fli unit delta past two trip disappoint ua delay hour',\n",
       " 'unit travel megzezzo injur gate agent chicago awesom help ty roadwarrior',\n",
       " 'unit unitedairlin long delay',\n",
       " 'unit flight statu updat delay ua board',\n",
       " 'unit paid economi plu put last board group gate check bag virginamerica know better',\n",
       " 'unit travel scl iha feb ac sit l night complaint fa never gave real answer help',\n",
       " 'unit suck hour delay',\n",
       " 'unit worst airlin world crap websit worthless app late flight flight suck shut',\n",
       " 'unit jh thank much reach abl get assist wait minut',\n",
       " 'unit stand still pilot paperwork fix min problem fix min ago flight delay',\n",
       " 'unit reason wait min bag made check flight staff polic overhead bin',\n",
       " 'unit pleas msg custom servic invoic dri clean abl take wet cloth airport',\n",
       " 'unit hour delay print piec paper',\n",
       " 'unit still respons',\n",
       " 'unit abl get seat assign without pay cust sec done',\n",
       " 'unit refer number agent told drive airport reach anyon deliv',\n",
       " 'unit slightli better crew spent long time search better altitud would help let pax sharp drop',\n",
       " 'unit credit card charg transact told would charg goe contact',\n",
       " 'unit pqm pqd longer show correctli mileageplu acct get fix',\n",
       " 'unit thank',\n",
       " 'unit sfo bo internet give',\n",
       " 'unit worst worst reserv polici worst costum servic worst worst worst congrat delta bad',\n",
       " 'unit tri make chang reserv get extrem frustrat give tri anoth airlin',\n",
       " 'unit got email updat still eta commun detail apolog info compens right would go long way',\n",
       " 'unit late flight crew btv last nite delay today flt miss connect cun play hotel tonight ewr',\n",
       " 'unit call check worstcustomerservic',\n",
       " 'unit passeng rerout match intend arriv time even incur cost put us airlin',\n",
       " 'unit solv final pick second time call thank respons jh dull work',\n",
       " 'unit need work unit flierfriendli program least clue flight attend',\n",
       " 'unit space doctor note everyth first trip lost first suitcas among issu pleas unit',\n",
       " 'unit new flierfriendli garbag cri get attend find place medic suppli limit overhead',\n",
       " 'unit epic fail reagan jetway min tarmac',\n",
       " 'unit thank link final arriv brussel h schedul',\n",
       " 'unit nd flight two week lost bag take k statu americanair neveragain worstcustomerservic',\n",
       " 'unit ua flight nightmar poor custom servic confirm seat given away issu',\n",
       " 'unit best custom experi via twitter huge fan',\n",
       " 'unit flight last night bad busi long time recommend unit anyon',\n",
       " 'unit beyond frustrat sked chang seat earlier departur doubl layov cours seat cust svc help',\n",
       " 'unit work lisa j ord work hard us still disappoint ewr',\n",
       " 'unit love new st class breakfast',\n",
       " 'unit email custom care via websit form long wait rachel resolv issu still irrit w unit',\n",
       " 'unit flight cancel flightl updat one get bwi late flight fine dca iad arriv earlier help',\n",
       " 'unit jj stand joke find humor',\n",
       " 'unit point made home',\n",
       " 'unit thank look get back via dm glad hear bag final deliv thank',\n",
       " 'unit would like talk custom servic agent servic non servic receiv last flight week go j',\n",
       " 'unit cancel flight flight wait line get rebook front make go anoth gate lose place',\n",
       " 'unit comment question thank copi past respons',\n",
       " 'unit fail last week iah next intl trip delta small ual flight lax book',\n",
       " 'unit suppos board brought plane hanger wtf know flight lax ewr',\n",
       " 'unit flew sdf atl tampa delta left earli arriv earli crew help wifi work',\n",
       " 'unit start without robot respons',\n",
       " 'unit control turbul control custom experi lot scare peopl',\n",
       " 'unit current ua minut worst turbul ever experienc zero commun flight deck',\n",
       " 'unit ye look ticket agent termin dismiss us miss chanc miami flight dr',\n",
       " 'unit told twice issu resolv twice write email bounc worstservic',\n",
       " 'unit flight let go look like clown one give st class',\n",
       " 'unit hold th time wait resolv issu flight year old son terribleservic noservic',\n",
       " 'unit cool thank',\n",
       " 'unit like thank recogn terri p dull go way get back raleigh flight',\n",
       " 'unit freq flyer make sad see cust need assist treat poorli servicefail',\n",
       " 'unit day saga mayb final make home intent gonna get back vacat day badservic',\n",
       " 'unit thank sick compani lousi excus custom servic never fli unit',\n",
       " 'unit current hold time speak rep tix reissu min long amp make option avail onlin',\n",
       " 'unit understand ppl make mistak code someth way get reimburs fault blatant lie',\n",
       " 'unit also forgot add bag probabl go sit new jersey miss connect',\n",
       " 'unit jx today would great honeymoon delay put damper iy',\n",
       " 'unit share pilot passeng',\n",
       " 'unit receipt upgrad return leg month late flightr still receipt http co dajwzhlvyu',\n",
       " 'unit book flight reserv seat go check find seat wtf',\n",
       " 'unit actual gate agent rude stand line wait reflight book problem miss flight sti aw',\n",
       " 'unit sure anyth build time promis ceo servic gotten wors',\n",
       " 'unit wi fi aircraft work entir ord dca flight morn',\n",
       " 'unit cancel flightl direct flight newark brussel last night hour behind schedul eu compens would given us',\n",
       " 'unit may dislik delay paid agreement paid got destin certain time',\n",
       " 'unit epicfail cx flight frankfurt san francisco go chicago flight crew hour due de ice delay',\n",
       " 'unit awar flight detail thank three hour late flight crew could give less shit',\n",
       " 'unit make sure flight delay due poor mainten would start',\n",
       " 'unit hilari',\n",
       " 'unit hahahahaha ya tri alreadi',\n",
       " 'unit bag may may airport unfortun one airport pick phone respond messag',\n",
       " 'unit funni paid check bag flight beg folk check bag free hour flight notcool',\n",
       " 'unit nope need littl red stamp counter check wreck son http co prgysvurm',\n",
       " 'unit tri cancel flight tri chang award ticket date place thank send link know fee',\n",
       " 'unit unhappi new mileag rule main reason keep fli unit take busi elsewher',\n",
       " 'unit need assist due incompet need reschedul connect never fli unit',\n",
       " 'unit offici displac deltaassist better flight experi pleasant cabin crew timeli ua switch',\n",
       " 'unit need bag bouncer get togeth',\n",
       " 'unit showexpert go unit mileag program pay ticket get fraction pqd credit',\n",
       " 'unit need retrain flight attend say room carri on actual cool',\n",
       " 'ua unit cancel flightl delay flight book problem still mile home least acknowledg cancel flightlat',\n",
       " 'unit never ever flight book problem flight unit affili chanc get unit flight',\n",
       " 'unit abl send dm good',\n",
       " 'unit three delay flight miss connect first class flight get compens lose seat',\n",
       " 'unit hold hour day sort told fine fine arriv fli',\n",
       " 'unit almost week still word dot updat london fare us citi updat end',\n",
       " 'unit well start would nice ticket actual system chang flight',\n",
       " 'unit anoth aw experi victoria check desk stl could rude condescend',\n",
       " 'unit want deliv hous go sombron els hous',\n",
       " 'unit michel ord train staff treat custom refresh pleasur deal',\n",
       " 'unit guess follow order send dm tri send',\n",
       " 'unit stop fli unit yr ago bc aggress polici carryon bdl listen pssngr forc chk preboard notcomingback',\n",
       " 'unit sent messag bag tag look',\n",
       " ...]"
      ]
     },
     "execution_count": 14,
     "metadata": {},
     "output_type": "execute_result"
    }
   ],
   "source": [
    "corpus"
   ]
  },
  {
   "cell_type": "code",
   "execution_count": 15,
   "metadata": {},
   "outputs": [],
   "source": [
    "from sklearn.feature_extraction.text import CountVectorizer\n",
    "\n",
    "cv = CountVectorizer(max_features= 1500)"
   ]
  },
  {
   "cell_type": "code",
   "execution_count": 16,
   "metadata": {},
   "outputs": [
    {
     "data": {
      "text/plain": [
       "array([[0, 0, 0, ..., 0, 0, 0],\n",
       "       [0, 0, 0, ..., 0, 0, 0],\n",
       "       [0, 0, 0, ..., 0, 0, 0],\n",
       "       ...,\n",
       "       [0, 0, 0, ..., 0, 0, 0],\n",
       "       [0, 0, 0, ..., 0, 0, 0],\n",
       "       [0, 0, 0, ..., 0, 0, 0]], dtype=int64)"
      ]
     },
     "execution_count": 16,
     "metadata": {},
     "output_type": "execute_result"
    }
   ],
   "source": [
    "X = cv.fit_transform(corpus).toarray()\n",
    "X"
   ]
  },
  {
   "cell_type": "code",
   "execution_count": 17,
   "metadata": {},
   "outputs": [
    {
     "name": "stdout",
     "output_type": "stream",
     "text": [
      "['aa' 'abc' 'abl' ... 'yr' 'yyz' 'zero']\n"
     ]
    }
   ],
   "source": [
    "print(cv.get_feature_names_out())"
   ]
  },
  {
   "cell_type": "code",
   "execution_count": 18,
   "metadata": {},
   "outputs": [
    {
     "data": {
      "text/plain": [
       "(11541, 1500)"
      ]
     },
     "execution_count": 18,
     "metadata": {},
     "output_type": "execute_result"
    }
   ],
   "source": [
    "X.shape"
   ]
  },
  {
   "cell_type": "code",
   "execution_count": 19,
   "metadata": {},
   "outputs": [],
   "source": [
    "from sklearn.preprocessing import LabelEncoder\n",
    "l= LabelEncoder()\n",
    "df_1[\"airline_sentiment\"] = l.fit_transform(df_1['airline_sentiment'])"
   ]
  },
  {
   "cell_type": "code",
   "execution_count": 20,
   "metadata": {},
   "outputs": [
    {
     "data": {
      "text/html": [
       "<div>\n",
       "<style scoped>\n",
       "    .dataframe tbody tr th:only-of-type {\n",
       "        vertical-align: middle;\n",
       "    }\n",
       "\n",
       "    .dataframe tbody tr th {\n",
       "        vertical-align: top;\n",
       "    }\n",
       "\n",
       "    .dataframe thead th {\n",
       "        text-align: right;\n",
       "    }\n",
       "</style>\n",
       "<table border=\"1\" class=\"dataframe\">\n",
       "  <thead>\n",
       "    <tr style=\"text-align: right;\">\n",
       "      <th></th>\n",
       "      <th>text</th>\n",
       "      <th>airline_sentiment</th>\n",
       "    </tr>\n",
       "  </thead>\n",
       "  <tbody>\n",
       "    <tr>\n",
       "      <th>0</th>\n",
       "      <td>@VirginAmerica plus you've added commercials t...</td>\n",
       "      <td>1</td>\n",
       "    </tr>\n",
       "    <tr>\n",
       "      <th>1</th>\n",
       "      <td>@VirginAmerica it's really aggressive to blast...</td>\n",
       "      <td>0</td>\n",
       "    </tr>\n",
       "    <tr>\n",
       "      <th>2</th>\n",
       "      <td>@VirginAmerica and it's a really big bad thing...</td>\n",
       "      <td>0</td>\n",
       "    </tr>\n",
       "    <tr>\n",
       "      <th>3</th>\n",
       "      <td>@VirginAmerica seriously would pay $30 a fligh...</td>\n",
       "      <td>0</td>\n",
       "    </tr>\n",
       "    <tr>\n",
       "      <th>4</th>\n",
       "      <td>@VirginAmerica yes, nearly every time I fly VX...</td>\n",
       "      <td>1</td>\n",
       "    </tr>\n",
       "  </tbody>\n",
       "</table>\n",
       "</div>"
      ],
      "text/plain": [
       "                                                text  airline_sentiment\n",
       "0  @VirginAmerica plus you've added commercials t...                  1\n",
       "1  @VirginAmerica it's really aggressive to blast...                  0\n",
       "2  @VirginAmerica and it's a really big bad thing...                  0\n",
       "3  @VirginAmerica seriously would pay $30 a fligh...                  0\n",
       "4  @VirginAmerica yes, nearly every time I fly VX...                  1"
      ]
     },
     "execution_count": 20,
     "metadata": {},
     "output_type": "execute_result"
    }
   ],
   "source": [
    "df_1.head()"
   ]
  },
  {
   "cell_type": "code",
   "execution_count": 21,
   "metadata": {},
   "outputs": [
    {
     "data": {
      "text/plain": [
       "array([1, 0, 0, ..., 1, 0, 0])"
      ]
     },
     "execution_count": 21,
     "metadata": {},
     "output_type": "execute_result"
    }
   ],
   "source": [
    "y = df_1.iloc[:, 1].values\n",
    "y"
   ]
  },
  {
   "cell_type": "code",
   "execution_count": 22,
   "metadata": {},
   "outputs": [],
   "source": [
    "from sklearn.datasets import make_classification\n",
    "from sklearn.metrics import accuracy_score, f1_score, precision_score, recall_score,confusion_matrix"
   ]
  },
  {
   "cell_type": "code",
   "execution_count": 23,
   "metadata": {},
   "outputs": [],
   "source": [
    "def c(ytest,y_pred):\n",
    "    matrix = confusion_matrix(ytest, y_pred)\n",
    "    sns.heatmap(matrix, annot = True, fmt = 'g')\n",
    "    plt.title(\"Confusion Matrix\", fontsize = 40)"
   ]
  },
  {
   "cell_type": "markdown",
   "metadata": {},
   "source": [
    "#### Naive bayis"
   ]
  },
  {
   "cell_type": "code",
   "execution_count": 24,
   "metadata": {},
   "outputs": [
    {
     "data": {
      "text/html": [
       "<style>#sk-container-id-1 {color: black;background-color: white;}#sk-container-id-1 pre{padding: 0;}#sk-container-id-1 div.sk-toggleable {background-color: white;}#sk-container-id-1 label.sk-toggleable__label {cursor: pointer;display: block;width: 100%;margin-bottom: 0;padding: 0.3em;box-sizing: border-box;text-align: center;}#sk-container-id-1 label.sk-toggleable__label-arrow:before {content: \"▸\";float: left;margin-right: 0.25em;color: #696969;}#sk-container-id-1 label.sk-toggleable__label-arrow:hover:before {color: black;}#sk-container-id-1 div.sk-estimator:hover label.sk-toggleable__label-arrow:before {color: black;}#sk-container-id-1 div.sk-toggleable__content {max-height: 0;max-width: 0;overflow: hidden;text-align: left;background-color: #f0f8ff;}#sk-container-id-1 div.sk-toggleable__content pre {margin: 0.2em;color: black;border-radius: 0.25em;background-color: #f0f8ff;}#sk-container-id-1 input.sk-toggleable__control:checked~div.sk-toggleable__content {max-height: 200px;max-width: 100%;overflow: auto;}#sk-container-id-1 input.sk-toggleable__control:checked~label.sk-toggleable__label-arrow:before {content: \"▾\";}#sk-container-id-1 div.sk-estimator input.sk-toggleable__control:checked~label.sk-toggleable__label {background-color: #d4ebff;}#sk-container-id-1 div.sk-label input.sk-toggleable__control:checked~label.sk-toggleable__label {background-color: #d4ebff;}#sk-container-id-1 input.sk-hidden--visually {border: 0;clip: rect(1px 1px 1px 1px);clip: rect(1px, 1px, 1px, 1px);height: 1px;margin: -1px;overflow: hidden;padding: 0;position: absolute;width: 1px;}#sk-container-id-1 div.sk-estimator {font-family: monospace;background-color: #f0f8ff;border: 1px dotted black;border-radius: 0.25em;box-sizing: border-box;margin-bottom: 0.5em;}#sk-container-id-1 div.sk-estimator:hover {background-color: #d4ebff;}#sk-container-id-1 div.sk-parallel-item::after {content: \"\";width: 100%;border-bottom: 1px solid gray;flex-grow: 1;}#sk-container-id-1 div.sk-label:hover label.sk-toggleable__label {background-color: #d4ebff;}#sk-container-id-1 div.sk-serial::before {content: \"\";position: absolute;border-left: 1px solid gray;box-sizing: border-box;top: 0;bottom: 0;left: 50%;z-index: 0;}#sk-container-id-1 div.sk-serial {display: flex;flex-direction: column;align-items: center;background-color: white;padding-right: 0.2em;padding-left: 0.2em;position: relative;}#sk-container-id-1 div.sk-item {position: relative;z-index: 1;}#sk-container-id-1 div.sk-parallel {display: flex;align-items: stretch;justify-content: center;background-color: white;position: relative;}#sk-container-id-1 div.sk-item::before, #sk-container-id-1 div.sk-parallel-item::before {content: \"\";position: absolute;border-left: 1px solid gray;box-sizing: border-box;top: 0;bottom: 0;left: 50%;z-index: -1;}#sk-container-id-1 div.sk-parallel-item {display: flex;flex-direction: column;z-index: 1;position: relative;background-color: white;}#sk-container-id-1 div.sk-parallel-item:first-child::after {align-self: flex-end;width: 50%;}#sk-container-id-1 div.sk-parallel-item:last-child::after {align-self: flex-start;width: 50%;}#sk-container-id-1 div.sk-parallel-item:only-child::after {width: 0;}#sk-container-id-1 div.sk-dashed-wrapped {border: 1px dashed gray;margin: 0 0.4em 0.5em 0.4em;box-sizing: border-box;padding-bottom: 0.4em;background-color: white;}#sk-container-id-1 div.sk-label label {font-family: monospace;font-weight: bold;display: inline-block;line-height: 1.2em;}#sk-container-id-1 div.sk-label-container {text-align: center;}#sk-container-id-1 div.sk-container {/* jupyter's `normalize.less` sets `[hidden] { display: none; }` but bootstrap.min.css set `[hidden] { display: none !important; }` so we also need the `!important` here to be able to override the default hidden behavior on the sphinx rendered scikit-learn.org. See: https://github.com/scikit-learn/scikit-learn/issues/21755 */display: inline-block !important;position: relative;}#sk-container-id-1 div.sk-text-repr-fallback {display: none;}</style><div id=\"sk-container-id-1\" class=\"sk-top-container\"><div class=\"sk-text-repr-fallback\"><pre>GaussianNB()</pre><b>In a Jupyter environment, please rerun this cell to show the HTML representation or trust the notebook. <br />On GitHub, the HTML representation is unable to render, please try loading this page with nbviewer.org.</b></div><div class=\"sk-container\" hidden><div class=\"sk-item\"><div class=\"sk-estimator sk-toggleable\"><input class=\"sk-toggleable__control sk-hidden--visually\" id=\"sk-estimator-id-1\" type=\"checkbox\" checked><label for=\"sk-estimator-id-1\" class=\"sk-toggleable__label sk-toggleable__label-arrow\">GaussianNB</label><div class=\"sk-toggleable__content\"><pre>GaussianNB()</pre></div></div></div></div></div>"
      ],
      "text/plain": [
       "GaussianNB()"
      ]
     },
     "execution_count": 24,
     "metadata": {},
     "output_type": "execute_result"
    }
   ],
   "source": [
    "# Splitting the dataset into the Training set and Test set\n",
    "from sklearn.model_selection import train_test_split\n",
    "X_train, X_test, y_train, y_test = train_test_split(X, y, test_size = 0.20, random_state = 0)\n",
    "\n",
    "# Fitting classifier to the Training set\n",
    "from sklearn.naive_bayes import GaussianNB\n",
    "classifier = GaussianNB()\n",
    "classifier.fit(X_train, y_train)\n"
   ]
  },
  {
   "cell_type": "code",
   "execution_count": 25,
   "metadata": {},
   "outputs": [
    {
     "data": {
      "text/plain": [
       "<sklearn.metrics._plot.confusion_matrix.ConfusionMatrixDisplay at 0x15834daf2e0>"
      ]
     },
     "execution_count": 25,
     "metadata": {},
     "output_type": "execute_result"
    },
    {
     "data": {
      "image/png": "[encoded data removed]",
      "text/plain": [
       "<Figure size 640x480 with 2 Axes>"
      ]
     },
     "metadata": {},
     "output_type": "display_data"
    }
   ],
   "source": [
    "# Predicting the Test set results \n",
    "y_pred = classifier.predict(X_test)\n",
    "\n",
    "# Making the Confusion Matrix\n",
    "from sklearn.metrics import confusion_matrix, accuracy_score, f1_score, recall_score, precision_score\n",
    "cm = confusion_matrix(y_test, y_pred)\n",
    "\n",
    "# Import Required Libraries\n",
    "from sklearn.metrics import confusion_matrix, ConfusionMatrixDisplay\n",
    "\n",
    "# Display the Confusion MAtrix\n",
    "disp = ConfusionMatrixDisplay(cm, display_labels = classifier.classes_)\n",
    "disp.plot()"
   ]
  },
  {
   "cell_type": "code",
   "execution_count": 26,
   "metadata": {},
   "outputs": [
    {
     "name": "stdout",
     "output_type": "stream",
     "text": [
      "Accuracy Score: 0.5374621048072759\n",
      "f1_score: 0.4373024236037935\n",
      "Recall_score: 0.8829787234042553\n",
      "Precision_score: 0.29061624649859946\n"
     ]
    }
   ],
   "source": [
    "# Evaluating the results\n",
    "print(\"Accuracy Score:\", accuracy_score(y_test, y_pred))\n",
    "print(\"f1_score:\", f1_score(y_test, y_pred))\n",
    "print(\"Recall_score:\", recall_score(y_test, y_pred))\n",
    "print(\"Precision_score:\", precision_score(y_test, y_pred))"
   ]
  },
  {
   "cell_type": "markdown",
   "metadata": {},
   "source": [
    "### KNN Model"
   ]
  },
  {
   "cell_type": "code",
   "execution_count": 27,
   "metadata": {},
   "outputs": [
    {
     "data": {
      "text/plain": [
       "<sklearn.metrics._plot.confusion_matrix.ConfusionMatrixDisplay at 0x1583d388f70>"
      ]
     },
     "execution_count": 27,
     "metadata": {},
     "output_type": "execute_result"
    },
    {
     "data": {
      "image/png": "[encoded data removed]",
      "text/plain": [
       "<Figure size 640x480 with 2 Axes>"
      ]
     },
     "metadata": {},
     "output_type": "display_data"
    }
   ],
   "source": [
    "# Splitting the dataset into the Training set and Test set\n",
    "from sklearn.model_selection import train_test_split\n",
    "X_train, X_test, y_train, y_test = train_test_split(X, y, test_size = 0.25, random_state = 0)\n",
    "\n",
    "\n",
    "# Fitting classifier to the Training set\n",
    "from sklearn.neighbors import KNeighborsClassifier\n",
    "classifier = KNeighborsClassifier(n_neighbors = 5, metric = 'minkowski', p = 2)\n",
    "classifier.fit(X_train, y_train)\n",
    "\n",
    "# Predicting the Test set results\n",
    "y_pred = classifier.predict(X_test)\n",
    "\n",
    "# Making the Confusion Matrix\n",
    "cm = confusion_matrix(y_test, y_pred)\n",
    "\n",
    "# Display the Confusion MAtrix\n",
    "disp = ConfusionMatrixDisplay(cm, display_labels = classifier.classes_)\n",
    "disp.plot()"
   ]
  },
  {
   "cell_type": "code",
   "execution_count": 28,
   "metadata": {},
   "outputs": [
    {
     "data": {
      "text/plain": [
       "0.6251944012441679"
      ]
     },
     "execution_count": 28,
     "metadata": {},
     "output_type": "execute_result"
    }
   ],
   "source": [
    "cm\n",
    "accuracy_score(y_test, y_pred)\n",
    "f1_score(y_test, y_pred)\n",
    "recall_score(y_test, y_pred) # tp / (tp + fn)\n",
    "precision_score(y_test, y_pred) # tp / (tp + fp)"
   ]
  },
  {
   "cell_type": "markdown",
   "metadata": {},
   "source": [
    "### Support Vector Machine SVM Model"
   ]
  },
  {
   "cell_type": "code",
   "execution_count": 29,
   "metadata": {},
   "outputs": [
    {
     "data": {
      "text/plain": [
       "<sklearn.metrics._plot.confusion_matrix.ConfusionMatrixDisplay at 0x15834db9070>"
      ]
     },
     "execution_count": 29,
     "metadata": {},
     "output_type": "execute_result"
    },
    {
     "data": {
      "image/png": "[encoded data removed]",
      "text/plain": [
       "<Figure size 640x480 with 2 Axes>"
      ]
     },
     "metadata": {},
     "output_type": "display_data"
    }
   ],
   "source": [
    "# Splitting the dataset into the Training set and Test set\n",
    "X_train, X_test, y_train, y_test = train_test_split(X, y, test_size = 0.25, random_state = 0)\n",
    "\n",
    "\n",
    "# Fitting classifier to the Training set\n",
    "from sklearn.svm import SVC\n",
    "classifier = SVC(kernel = 'linear', random_state = 0)\n",
    "classifier.fit(X_train, y_train)\n",
    "\n",
    "\n",
    "# Predicting the Test set results\n",
    "y_pred = classifier.predict(X_test)\n",
    "\n",
    "# Making the Confusion Matrix\n",
    "cm = confusion_matrix(y_test, y_pred)\n",
    "\n",
    "# Display the Confusion MAtrix\n",
    "disp = ConfusionMatrixDisplay(cm, display_labels = classifier.classes_)\n",
    "disp.plot()"
   ]
  },
  {
   "cell_type": "code",
   "execution_count": 30,
   "metadata": {},
   "outputs": [
    {
     "name": "stdout",
     "output_type": "stream",
     "text": [
      "Accuracy Score: 0.9012474012474012\n",
      "f1_score: 0.7615062761506275\n",
      "Recall_score: 0.7446808510638298\n",
      "Precision_score: 0.7791095890410958\n"
     ]
    }
   ],
   "source": [
    "# Evaluating the results\n",
    "print(\"Accuracy Score:\", accuracy_score(y_test, y_pred))\n",
    "print(\"f1_score:\", f1_score(y_test, y_pred))\n",
    "print(\"Recall_score:\", recall_score(y_test, y_pred))\n",
    "print(\"Precision_score:\", precision_score(y_test, y_pred))"
   ]
  },
  {
   "cell_type": "markdown",
   "metadata": {},
   "source": [
    "### Decision Tree Classification Model"
   ]
  },
  {
   "cell_type": "code",
   "execution_count": 31,
   "metadata": {},
   "outputs": [
    {
     "data": {
      "text/plain": [
       "<sklearn.metrics._plot.confusion_matrix.ConfusionMatrixDisplay at 0x1583f50ad60>"
      ]
     },
     "execution_count": 31,
     "metadata": {},
     "output_type": "execute_result"
    },
    {
     "data": {
      "image/png": "[encoded data removed]",
      "text/plain": [
       "<Figure size 640x480 with 2 Axes>"
      ]
     },
     "metadata": {},
     "output_type": "display_data"
    }
   ],
   "source": [
    "# Splitting the dataset into the Training set and Test set\n",
    "X_train, X_test, y_train, y_test = train_test_split(X, y, test_size = 0.25, random_state = 0)\n",
    "\n",
    "\n",
    "# Fitting classifier to the Training set\n",
    "from sklearn.tree import DecisionTreeClassifier\n",
    "classifier = DecisionTreeClassifier(criterion = 'entropy', random_state = 0)\n",
    "classifier.fit(X_train, y_train)\n",
    "\n",
    "# Predicting the Test set results\n",
    "y_pred = classifier.predict(X_test)\n",
    "\n",
    "# Making the Confusion Matrix\n",
    "from sklearn.metrics import confusion_matrix\n",
    "cm = confusion_matrix(y_test, y_pred)\n",
    "\n",
    "# Display the Confusion MAtrix\n",
    "disp = ConfusionMatrixDisplay(cm, display_labels = classifier.classes_)\n",
    "disp.plot()"
   ]
  },
  {
   "cell_type": "code",
   "execution_count": 32,
   "metadata": {},
   "outputs": [
    {
     "name": "stdout",
     "output_type": "stream",
     "text": [
      "Accuracy Score: 0.8589743589743589\n",
      "f1_score: 0.6715092816787731\n",
      "Recall_score: 0.6808510638297872\n",
      "Precision_score: 0.6624203821656051\n"
     ]
    }
   ],
   "source": [
    "# Evaluating the results\n",
    "print(\"Accuracy Score:\", accuracy_score(y_test, y_pred))\n",
    "print(\"f1_score:\", f1_score(y_test, y_pred))\n",
    "print(\"Recall_score:\", recall_score(y_test, y_pred))\n",
    "print(\"Precision_score:\", precision_score(y_test, y_pred))"
   ]
  },
  {
   "cell_type": "markdown",
   "metadata": {},
   "source": [
    "### Random Forest Model"
   ]
  },
  {
   "cell_type": "code",
   "execution_count": 33,
   "metadata": {},
   "outputs": [
    {
     "data": {
      "text/plain": [
       "<sklearn.metrics._plot.confusion_matrix.ConfusionMatrixDisplay at 0x1583f51c220>"
      ]
     },
     "execution_count": 33,
     "metadata": {},
     "output_type": "execute_result"
    },
    {
     "data": {
      "image/png": "[encoded data removed]",
      "text/plain": [
       "<Figure size 640x480 with 2 Axes>"
      ]
     },
     "metadata": {},
     "output_type": "display_data"
    }
   ],
   "source": [
    "# Splitting the dataset into the Training set and Test set\n",
    "\n",
    "X_train, X_test, y_train, y_test = train_test_split(X, y, test_size = 0.25, random_state = 0)\n",
    "\n",
    "\n",
    "\n",
    "# Fitting classifier to the Training set\n",
    "from sklearn.ensemble import RandomForestClassifier\n",
    "classifier = RandomForestClassifier(n_estimators = 10, criterion = 'entropy', random_state = 0)\n",
    "classifier.fit(X_train, y_train)\n",
    "\n",
    "\n",
    "# Predicting the Test set results\n",
    "y_pred = classifier.predict(X_test)\n",
    "\n",
    "# Making the Confusion Matrix\n",
    "from sklearn.metrics import confusion_matrix\n",
    "cm = confusion_matrix(y_test, y_pred)\n",
    "\n",
    "# Display the Confusion MAtrix\n",
    "disp = ConfusionMatrixDisplay(cm, display_labels = classifier.classes_)\n",
    "disp.plot()"
   ]
  },
  {
   "cell_type": "code",
   "execution_count": 34,
   "metadata": {},
   "outputs": [
    {
     "name": "stdout",
     "output_type": "stream",
     "text": [
      "Accuracy Score: 0.8901593901593902\n",
      "f1_score: 0.7146714671467148\n",
      "Recall_score: 0.6497545008183306\n",
      "Precision_score: 0.794\n"
     ]
    }
   ],
   "source": [
    "# Evaluating the results\n",
    "print(\"Accuracy Score:\", accuracy_score(y_test, y_pred))\n",
    "print(\"f1_score:\", f1_score(y_test, y_pred))\n",
    "print(\"Recall_score:\", recall_score(y_test, y_pred))\n",
    "print(\"Precision_score:\", precision_score(y_test, y_pred))"
   ]
  },
  {
   "cell_type": "markdown",
   "metadata": {},
   "source": [
    "## Feature Extraction\n",
    "### TF IDF "
   ]
  },
  {
   "cell_type": "code",
   "execution_count": 35,
   "metadata": {},
   "outputs": [],
   "source": [
    "from sklearn.feature_extraction.text import TfidfVectorizer\n",
    "\n",
    "vectorizer = TfidfVectorizer (max_features=2500, min_df=7, max_df=0.8, stop_words=stopwords.words('english'))\n"
   ]
  },
  {
   "cell_type": "code",
   "execution_count": 36,
   "metadata": {},
   "outputs": [],
   "source": [
    "corpus = vectorizer.fit_transform(corpus).toarray()"
   ]
  },
  {
   "cell_type": "code",
   "execution_count": 37,
   "metadata": {},
   "outputs": [],
   "source": [
    "X =corpus"
   ]
  },
  {
   "cell_type": "code",
   "execution_count": 38,
   "metadata": {},
   "outputs": [
    {
     "data": {
      "text/plain": [
       "(11541, 1589)"
      ]
     },
     "execution_count": 38,
     "metadata": {},
     "output_type": "execute_result"
    }
   ],
   "source": [
    "X.shape"
   ]
  },
  {
   "cell_type": "markdown",
   "metadata": {},
   "source": [
    "### Random Forest "
   ]
  },
  {
   "cell_type": "code",
   "execution_count": 39,
   "metadata": {},
   "outputs": [
    {
     "data": {
      "text/plain": [
       "<sklearn.metrics._plot.confusion_matrix.ConfusionMatrixDisplay at 0x1584db996d0>"
      ]
     },
     "execution_count": 39,
     "metadata": {},
     "output_type": "execute_result"
    },
    {
     "data": {
      "image/png": "[encoded data removed]",
      "text/plain": [
       "<Figure size 640x480 with 2 Axes>"
      ]
     },
     "metadata": {},
     "output_type": "display_data"
    }
   ],
   "source": [
    "# Splitting the dataset into the Training set and Test set\n",
    "\n",
    "X_train, X_test, y_train, y_test = train_test_split(X, y, test_size = 0.25, random_state = 0)\n",
    "\n",
    "\n",
    "\n",
    "# Fitting classifier to the Training set\n",
    "from sklearn.ensemble import RandomForestClassifier\n",
    "classifier = RandomForestClassifier(n_estimators = 10, criterion = 'entropy', random_state = 0)\n",
    "classifier.fit(X_train, y_train)\n",
    "\n",
    "\n",
    "# Predicting the Test set results\n",
    "y_pred = classifier.predict(X_test)\n",
    "\n",
    "# Making the Confusion Matrix\n",
    "from sklearn.metrics import confusion_matrix\n",
    "cm = confusion_matrix(y_test, y_pred)\n",
    "\n",
    "# Display the Confusion MAtrix\n",
    "disp = ConfusionMatrixDisplay(cm, display_labels = classifier.classes_)\n",
    "disp.plot()"
   ]
  },
  {
   "cell_type": "code",
   "execution_count": 40,
   "metadata": {},
   "outputs": [
    {
     "name": "stdout",
     "output_type": "stream",
     "text": [
      "Accuracy Score: 0.8925848925848926\n",
      "f1_score: 0.7019230769230769\n",
      "Recall_score: 0.5973813420621932\n",
      "Precision_score: 0.8508158508158508\n"
     ]
    }
   ],
   "source": [
    "# Evaluating the results\n",
    "print(\"Accuracy Score:\", accuracy_score(y_test, y_pred))\n",
    "print(\"f1_score:\", f1_score(y_test, y_pred))\n",
    "print(\"Recall_score:\", recall_score(y_test, y_pred))\n",
    "print(\"Precision_score:\", precision_score(y_test, y_pred))"
   ]
  },
  {
   "cell_type": "markdown",
   "metadata": {},
   "source": [
    "### Decision Tree "
   ]
  },
  {
   "cell_type": "code",
   "execution_count": 41,
   "metadata": {},
   "outputs": [
    {
     "data": {
      "text/plain": [
       "<sklearn.metrics._plot.confusion_matrix.ConfusionMatrixDisplay at 0x15845811eb0>"
      ]
     },
     "execution_count": 41,
     "metadata": {},
     "output_type": "execute_result"
    },
    {
     "data": {
      "image/png": "[encoded data removed]",
      "text/plain": [
       "<Figure size 640x480 with 2 Axes>"
      ]
     },
     "metadata": {},
     "output_type": "display_data"
    }
   ],
   "source": [
    "# Splitting the dataset into the Training set and Test set\n",
    "X_train, X_test, y_train, y_test = train_test_split(X, y, test_size = 0.25, random_state = 0)\n",
    "\n",
    "\n",
    "# Fitting classifier to the Training set\n",
    "from sklearn.tree import DecisionTreeClassifier\n",
    "classifier = DecisionTreeClassifier(criterion = 'entropy', random_state = 0)\n",
    "classifier.fit(X_train, y_train)\n",
    "\n",
    "# Predicting the Test set results\n",
    "y_pred = classifier.predict(X_test)\n",
    "\n",
    "# Making the Confusion Matrix\n",
    "from sklearn.metrics import confusion_matrix\n",
    "cm = confusion_matrix(y_test, y_pred)\n",
    "\n",
    "# Display the Confusion MAtrix\n",
    "disp = ConfusionMatrixDisplay(cm, display_labels = classifier.classes_)\n",
    "disp.plot()"
   ]
  },
  {
   "cell_type": "code",
   "execution_count": 42,
   "metadata": {},
   "outputs": [
    {
     "name": "stdout",
     "output_type": "stream",
     "text": [
      "Accuracy Score: 0.8482328482328483\n",
      "f1_score: 0.6356073211314477\n",
      "Recall_score: 0.6252045826513911\n",
      "Precision_score: 0.6463620981387479\n"
     ]
    }
   ],
   "source": [
    "# Evaluating the results\n",
    "print(\"Accuracy Score:\", accuracy_score(y_test, y_pred))\n",
    "print(\"f1_score:\", f1_score(y_test, y_pred))\n",
    "print(\"Recall_score:\", recall_score(y_test, y_pred))\n",
    "print(\"Precision_score:\", precision_score(y_test, y_pred))"
   ]
  },
  {
   "cell_type": "markdown",
   "metadata": {},
   "source": [
    "### Support Vector Machine SVM Model"
   ]
  },
  {
   "cell_type": "code",
   "execution_count": 43,
   "metadata": {},
   "outputs": [
    {
     "data": {
      "text/plain": [
       "<sklearn.metrics._plot.confusion_matrix.ConfusionMatrixDisplay at 0x1584dba7be0>"
      ]
     },
     "execution_count": 43,
     "metadata": {},
     "output_type": "execute_result"
    },
    {
     "data": {
      "image/png": "[encoded data removed]",
      "text/plain": [
       "<Figure size 640x480 with 2 Axes>"
      ]
     },
     "metadata": {},
     "output_type": "display_data"
    }
   ],
   "source": [
    "# Splitting the dataset into the Training set and Test set\n",
    "X_train, X_test, y_train, y_test = train_test_split(X, y, test_size = 0.25, random_state = 0)\n",
    "\n",
    "\n",
    "# Fitting classifier to the Training set\n",
    "from sklearn.svm import SVC\n",
    "classifier = SVC(kernel = 'linear', random_state = 0)\n",
    "classifier.fit(X_train, y_train)\n",
    "\n",
    "\n",
    "# Predicting the Test set results\n",
    "y_pred = classifier.predict(X_test)\n",
    "\n",
    "# Making the Confusion Matrix\n",
    "cm = confusion_matrix(y_test, y_pred)\n",
    "\n",
    "# Display the Confusion MAtrix\n",
    "disp = ConfusionMatrixDisplay(cm, display_labels = classifier.classes_)\n",
    "disp.plot()"
   ]
  },
  {
   "cell_type": "code",
   "execution_count": 44,
   "metadata": {},
   "outputs": [
    {
     "name": "stdout",
     "output_type": "stream",
     "text": [
      "Accuracy Score: 0.9123354123354124\n",
      "f1_score: 0.7714543812104787\n",
      "Recall_score: 0.6988543371522095\n",
      "Precision_score: 0.8608870967741935\n"
     ]
    }
   ],
   "source": [
    "# Evaluating the results\n",
    "print(\"Accuracy Score:\", accuracy_score(y_test, y_pred))\n",
    "print(\"f1_score:\", f1_score(y_test, y_pred))\n",
    "print(\"Recall_score:\", recall_score(y_test, y_pred))\n",
    "print(\"Precision_score:\", precision_score(y_test, y_pred))"
   ]
  },
  {
   "cell_type": "markdown",
   "metadata": {},
   "source": [
    "### KNN Model"
   ]
  },
  {
   "cell_type": "code",
   "execution_count": 45,
   "metadata": {},
   "outputs": [
    {
     "data": {
      "text/plain": [
       "<sklearn.metrics._plot.confusion_matrix.ConfusionMatrixDisplay at 0x15845b72c70>"
      ]
     },
     "execution_count": 45,
     "metadata": {},
     "output_type": "execute_result"
    },
    {
     "data": {
      "image/png": "[encoded data removed]",
      "text/plain": [
       "<Figure size 640x480 with 2 Axes>"
      ]
     },
     "metadata": {},
     "output_type": "display_data"
    }
   ],
   "source": [
    "# Splitting the dataset into the Training set and Test set\n",
    "from sklearn.model_selection import train_test_split\n",
    "X_train, X_test, y_train, y_test = train_test_split(X, y, test_size = 0.25, random_state = 0)\n",
    "\n",
    "\n",
    "# Fitting classifier to the Training set\n",
    "from sklearn.neighbors import KNeighborsClassifier\n",
    "classifier = KNeighborsClassifier(n_neighbors = 5, metric = 'minkowski', p = 2)\n",
    "classifier.fit(X_train, y_train)\n",
    "\n",
    "# Predicting the Test set results\n",
    "y_pred = classifier.predict(X_test)\n",
    "\n",
    "# Making the Confusion Matrix\n",
    "cm = confusion_matrix(y_test, y_pred)\n",
    "\n",
    "# Display the Confusion MAtrix\n",
    "disp = ConfusionMatrixDisplay(cm, display_labels = classifier.classes_)\n",
    "disp.plot()"
   ]
  },
  {
   "cell_type": "code",
   "execution_count": 46,
   "metadata": {},
   "outputs": [
    {
     "name": "stdout",
     "output_type": "stream",
     "text": [
      "Accuracy Score: 0.8683298683298684\n",
      "f1_score: 0.6828046744574291\n",
      "Recall_score: 0.6693944353518821\n",
      "Precision_score: 0.696763202725724\n"
     ]
    }
   ],
   "source": [
    "# Evaluating the results\n",
    "print(\"Accuracy Score:\", accuracy_score(y_test, y_pred))\n",
    "print(\"f1_score:\", f1_score(y_test, y_pred))\n",
    "print(\"Recall_score:\", recall_score(y_test, y_pred))\n",
    "print(\"Precision_score:\", precision_score(y_test, y_pred))"
   ]
  },
  {
   "cell_type": "markdown",
   "metadata": {},
   "source": [
    "### Naive Bayes Algorithm"
   ]
  },
  {
   "cell_type": "code",
   "execution_count": 47,
   "metadata": {},
   "outputs": [
    {
     "data": {
      "text/plain": [
       "<sklearn.metrics._plot.confusion_matrix.ConfusionMatrixDisplay at 0x1584887f160>"
      ]
     },
     "execution_count": 47,
     "metadata": {},
     "output_type": "execute_result"
    },
    {
     "data": {
      "image/png": "[encoded data removed]",
      "text/plain": [
       "<Figure size 640x480 with 2 Axes>"
      ]
     },
     "metadata": {},
     "output_type": "display_data"
    }
   ],
   "source": [
    "# Splitting the dataset into the Training set and Test set\n",
    "from sklearn.model_selection import train_test_split\n",
    "X_train, X_test, y_train, y_test = train_test_split(X, y, test_size = 0.20, random_state = 0)\n",
    "\n",
    "\n",
    "\n",
    "# Fitting classifier to the Training set\n",
    "from sklearn.naive_bayes import GaussianNB\n",
    "classifier = GaussianNB()\n",
    "classifier.fit(X_train, y_train)\n",
    "\n",
    "# Predicting the Test set results\n",
    "y_pred = classifier.predict(X_test)\n",
    "\n",
    "# Making the Confusion Matrix\n",
    "from sklearn.metrics import confusion_matrix, accuracy_score, f1_score, recall_score, precision_score\n",
    "cm = confusion_matrix(y_test, y_pred)\n",
    "\n",
    "# Display the Confusion MAtrix\n",
    "disp = ConfusionMatrixDisplay(cm, display_labels = classifier.classes_)\n",
    "disp.plot()"
   ]
  },
  {
   "cell_type": "code",
   "execution_count": 48,
   "metadata": {},
   "outputs": [
    {
     "name": "stdout",
     "output_type": "stream",
     "text": [
      "Accuracy Score: 0.5491554785621481\n",
      "f1_score: 0.4369929691725256\n",
      "Recall_score: 0.8595744680851064\n",
      "Precision_score: 0.29296591733139954\n"
     ]
    }
   ],
   "source": [
    "# Evaluating the results\n",
    "print(\"Accuracy Score:\", accuracy_score(y_test, y_pred))\n",
    "print(\"f1_score:\", f1_score(y_test, y_pred))\n",
    "print(\"Recall_score:\", recall_score(y_test, y_pred))\n",
    "print(\"Precision_score:\", precision_score(y_test, y_pred))"
   ]
  },
  {
   "attachments": {},
   "cell_type": "markdown",
   "metadata": {},
   "source": [
    "## SVM model fit the best since it has the maximum Precision Score and Accuracy Score:\n",
    "1. Precision Score : 0.86\n",
    "2. Accuracy Score  : 0.91"
   ]
  }
 ],
 "metadata": {
  "kernelspec": {
   "display_name": "Python 3 (ipykernel)",
   "language": "python",
   "name": "python3"
  },
  "language_info": {
   "codemirror_mode": {
    "name": "ipython",
    "version": 3
   },
   "file_extension": ".py",
   "mimetype": "text/x-python",
   "name": "python",
   "nbconvert_exporter": "python",
   "pygments_lexer": "ipython3",
   "version": "3.9.15"
  }
 },
 "nbformat": 4,
 "nbformat_minor": 4
}
